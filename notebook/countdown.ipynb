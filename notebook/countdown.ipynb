{
 "cells": [
  {
   "cell_type": "markdown",
   "metadata": {},
   "source": [
    "## Countdown Numbers Game\n",
    "***"
   ]
  },
  {
   "cell_type": "markdown",
   "metadata": {},
   "source": [
    "The author is David Amankwah (G00394825@atu.ie).\n",
    "\n",
    "This notebook will explore the Countdown Numbers Game. There will be an overview of countdown game, with the challenge of figuring out a solution using the numbers and options provided. We'll go over the rules of the Countdown numbers game, the computational complexity of the game, and how to solve the game. To explore the Countdown game, use Python's solve_numbers function.\n",
    "\n",
    "First, an overview of the Countdown numbers game will be provided to introduce the game and its rules."
   ]
  },
  {
   "cell_type": "markdown",
   "metadata": {},
   "source": [
    "## Overview of the Countdown numbers game.\n",
    "***"
   ]
  },
  {
   "cell_type": "markdown",
   "metadata": {},
   "source": [
    "![Count](./images/count.PNG) <b>[5]</b>\n",
    "\n",
    "Countdown is a British game show that involves word and mathematical tasks <b>[1]</b>. The numbers round is the show's most popular segment, in which contestants use a set of six numbers and four basic arithmetic operations, such as addition, multiplication, and subtraction <b>[2]</b>. The goal is to use the provided numbers, along with the arithmetic operations to reach a randomly generated target.\n",
    "\n",
    "The number part rules state that there are 20 small number cards and 6 large number cards available <b>[3]</b>. The small numbers consist of numbers 1 to 10, two cards of each, while the large numbers have 25, 50, 75, and 100 numbers <b>[3]</b>. There are six cards drawn and a number of large numbers will be chosen from 0 to 4 with remaining ones being small numbers <b>[3]</b>.\n",
    "\n",
    "The cards in each category are drawn at random <b>[3]</b>. The target is a three-digit number from 100 to 999 chosen at random with a uniform distribution, and only addition, division, subtraction, and multiplication are permitted <b>[3]</b>. Contestants must use each of the six numbers exactly once, and all operations must produce integers <b>[3]</b>.\n",
    "\n",
    "Points are awarded for the closest solution, and contestants score if both solutions are equally close <b>[5]</b>. 10 points are awarded for the correct answer, 7 points for a non-exact solution up to 5 points off the target, and 5 points for a solution between 6 and 10 points off the target <b>[5]</b>. If neither contestant gets within ten, no points are awarded <b>[5]</b>.\n",
    "\n",
    "With low targets, typically under 200, the large number is used last and added on, as 198 could be calculated from the remaining numbers <b>[4]</b>. These are the rules and techniques used in the numbers section of the countdown show. It is a difficult game in which contestants must devise a series of operations that will result in the target number while adhering to certain constraints.\n",
    "The combination of numerical manipulation and time pressure makes the Countdown numbers game an intellectually challenging task."
   ]
  },
  {
   "cell_type": "markdown",
   "metadata": {},
   "source": [
    "## References\n",
    "***"
   ]
  },
  {
   "cell_type": "markdown",
   "metadata": {},
   "source": [
    "[1] https://en.wikipedia.org/wiki/Countdown_%28game_show%29 Countdown (game show) | Wikipedia\n",
    "\n",
    "[2] https://www.channel4.com/programmes/countdown Countdown | Channel4\n",
    "\n",
    "[3] https://www.daitx.com/2016/05/01/countdown-math/ “Countdown” numbers game: the lowdown | daitx\n",
    "\n",
    "[4] https://wiki.apterous.org/Numbers_game Numbers game | Wiki\n",
    "\n",
    "[5] https://wiki.apterous.org/Countdown Countdown | Wiki"
   ]
  },
  {
   "cell_type": "markdown",
   "metadata": {},
   "source": [
    "## The End\n",
    "***"
   ]
  }
 ],
 "metadata": {
  "kernelspec": {
   "display_name": "Python 3",
   "language": "python",
   "name": "python3"
  },
  "language_info": {
   "codemirror_mode": {
    "name": "ipython",
    "version": 3
   },
   "file_extension": ".py",
   "mimetype": "text/x-python",
   "name": "python",
   "nbconvert_exporter": "python",
   "pygments_lexer": "ipython3",
   "version": "3.11.5"
  }
 },
 "nbformat": 4,
 "nbformat_minor": 2
}
