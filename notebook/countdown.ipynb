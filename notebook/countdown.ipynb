{
 "cells": [
  {
   "cell_type": "markdown",
   "metadata": {},
   "source": [
    "## Countdown Numbers Game\n",
    "***"
   ]
  },
  {
   "cell_type": "markdown",
   "metadata": {},
   "source": [
    "The author is David Amankwah (G00394825@atu.ie).\n",
    "\n",
    "This notebook will explore the Countdown Numbers Game. There will be an overview of countdown game, with the challenge of figuring out a solution using the numbers and options provided. We'll go over the rules of the Countdown numbers game, the computational complexity of the game, and how to solve the game. To explore the Countdown game, use Python's solve_numbers function.\n",
    "\n",
    "First, an overview of the Countdown numbers game will be provided to introduce the game and its rules."
   ]
  },
  {
   "cell_type": "markdown",
   "metadata": {},
   "source": [
    "## Overview of the Countdown numbers game.\n",
    "***"
   ]
  }
 ],
 "metadata": {
  "kernelspec": {
   "display_name": "Python 3",
   "language": "python",
   "name": "python3"
  },
  "language_info": {
   "codemirror_mode": {
    "name": "ipython",
    "version": 3
   },
   "file_extension": ".py",
   "mimetype": "text/x-python",
   "name": "python",
   "nbconvert_exporter": "python",
   "pygments_lexer": "ipython3",
   "version": "3.11.5"
  }
 },
 "nbformat": 4,
 "nbformat_minor": 2
}
