{
 "cells": [
  {
   "cell_type": "markdown",
   "metadata": {},
   "source": [
    "## Countdown Numbers Game\n",
    "***"
   ]
  },
  {
   "cell_type": "markdown",
   "metadata": {},
   "source": [
    "The author is David Amankwah (G00394825@atu.ie).\n",
    "\n",
    "This notebook will explore the Countdown Numbers Game. There will be an overview of countdown game, with the challenge of figuring out a solution using the numbers and options provided. We'll go over the rules of the Countdown numbers game, the computational complexity of the game, and how to solve the game. To explore the Countdown game, use Python's solve_numbers function.\n",
    "\n",
    "First, an overview of the Countdown numbers game will be provided to introduce the game and its rules."
   ]
  },
  {
   "cell_type": "markdown",
   "metadata": {},
   "source": [
    "## Overview of the Countdown numbers game.\n",
    "***"
   ]
  },
  {
   "cell_type": "markdown",
   "metadata": {},
   "source": [
    "![Count](./images/count.PNG) <b>[5]</b>\n",
    "\n",
    "Countdown is a British game show that involves word and mathematical tasks <b>[1]</b>. The numbers round is the show's most popular segment, in which contestants use a set of six numbers and four basic arithmetic operations, such as addition, multiplication, and subtraction <b>[2]</b>. The goal is to use the provided numbers, along with the arithmetic operations to reach a randomly generated target.\n",
    "\n",
    "The number part rules state that there are 20 small number cards and 6 large number cards available <b>[3]</b>. The small numbers consist of numbers 1 to 10, two cards of each, while the large numbers have 25, 50, 75, and 100 numbers <b>[3]</b>. There are six cards drawn and a number of large numbers will be chosen from 0 to 4 with remaining ones being small numbers <b>[3]</b>.\n",
    "\n",
    "The cards in each category are drawn at random <b>[3]</b>. The target is a three-digit number from 100 to 999 chosen at random with a uniform distribution, and only addition, division, subtraction, and multiplication are permitted <b>[3]</b>. Contestants must use each of the six numbers exactly once, and all operations must produce integers <b>[3]</b>.\n",
    "\n",
    "Points are awarded for the closest solution, and contestants score if both solutions are equally close <b>[5]</b>. 10 points are awarded for the correct answer, 7 points for a non-exact solution up to 5 points off the target, and 5 points for a solution between 6 and 10 points off the target <b>[5]</b>. If neither contestant gets within ten, no points are awarded <b>[5]</b>.\n",
    "\n",
    "With low targets, typically under 200, the large number is used last and added on, as 198 could be calculated from the remaining numbers <b>[4]</b>. These are the rules and techniques used in the numbers section of the countdown show. It is a difficult game in which contestants must devise a series of operations that will result in the target number while adhering to certain constraints.\n",
    "The combination of numerical manipulation and time pressure makes the Countdown numbers game an intellectually challenging task."
   ]
  },
  {
   "cell_type": "markdown",
   "metadata": {},
   "source": [
    "## Example of Numbers Round"
   ]
  },
  {
   "cell_type": "markdown",
   "metadata": {},
   "source": [
    "I will give two examples of countdown number games. The first example shows two contestants attempting to reach the given target number by performing arithmetic operations on the selected numbers. \n",
    "\n",
    "<i>First Example: <b>[1]</b></i>\n",
    "\n",
    "Contestant One request two large numbers and four small numbers.\n",
    "\n",
    "The selection is:\n",
    "| 75, 50, 2, 3, 8, 7,| \n",
    "|--------------------|\n",
    "\n",
    "The given target is:\n",
    " | 812| \n",
    " |----|\n",
    "\n",
    " Contestant One declares 813 and Contestant Two delares 815.\n",
    " Contestant One is closer: 75 + 50 - 8 = 117 and 117 * 7 - (3*2) = 813, which earns 7\n",
    " points for being 1 away. Contestant Two does not score.\n",
    "\n",
    " This example <b>[1]</b> discusses the strategic elements involved in selecting the numbers and operations. The two large numbers gives the best chance of solving the game. However, One large number and five small numbers is the most popular selection. The most challenging selections are the zero or four large numbers.\n",
    "\n",
    "\n"
   ]
  },
  {
   "cell_type": "markdown",
   "metadata": {},
   "source": [
    "## Explanation of Functional programming\n",
    "***"
   ]
  },
  {
   "cell_type": "markdown",
   "metadata": {},
   "source": [
    "Functional programming is a programming paradigm that focuses on using pure functions. Functional programming is based on the concept of composing programs from small, reusable, and predictable pieces of code <b>[6]</b>.\n",
    "\n",
    "These are functions that can produce the same result for the same input while making no changes to the external state or causing side effects <b>[7]</b>. Pure functions are easy to test, debug, and reason about <b>[7]</b>. Pure functions facilitate the testing of solution accuracy. Functional programming revolves around functions, ensuring a clear separation between data and behavior <b>[6]</b>.\n",
    "\n",
    "The countdown number game lends itself well to a recursive approach. Recursion involves repeating an operation until it reaches a base case, necessitating the maintenance of a stack that consumes space linearly based on the depth of recursion <b>[7]</b>. In the countdown game, a combination of numbers can be generated recursively and operations can be applied until the target number is achieved.\n",
    "\n",
    "High-order functions are those that acceept other functions as arguements or return them as results <b>[7]</b>. High-order functions support partial application, which means that a function is applied to its arguements one at a time, with each application returning a new function that accepts the next arguements <b>[7]</b>. Highe-order allows for the abstraction of common patterns and operations by filetering valid combinations of numbers or applying arthimetic operations. This abstraction promotes code reuse and modularity, ensuring the implementation's flexibility.\n",
    "\n",
    "Functional programming ensures versatility, ease of writing and debugging, and well-structured software. Code debugging is made simple by modularization and the absence of side effects <b>[6]</b>.\n",
    "\n",
    "We can use functional programming to find a solution on Countdown numbers game. Python lanaguage supports functional programming to some extent. The principles of high-order function, recursion, and pure functions serve as a foundation for implementing the solution to the Countdown Numbers game. Using these concepts, we can write concise, readable, and correct code that generates solutions within the constraints of the gmae."
   ]
  },
  {
   "cell_type": "markdown",
   "metadata": {},
   "source": [
    "## References\n",
    "***"
   ]
  },
  {
   "cell_type": "markdown",
   "metadata": {},
   "source": [
    "[1] https://en.wikipedia.org/wiki/Countdown_%28game_show%29 Countdown (game show) | Wikipedia\n",
    "\n",
    "[2] https://www.channel4.com/programmes/countdown Countdown | Channel4\n",
    "\n",
    "[3] https://www.daitx.com/2016/05/01/countdown-math/ “Countdown” numbers game: the lowdown | daitx\n",
    "\n",
    "[4] https://wiki.apterous.org/Numbers_game Numbers game | Wiki\n",
    "\n",
    "[5] https://wiki.apterous.org/Countdown Countdown | Wiki\n",
    "\n",
    "[6] https://github.com/readme/guides/functional-programming-basics Functional Programming 101 | GitHub \n",
    "\n",
    "[7] https://en.wikipedia.org/wiki/Functional_programming Functional programming | Wikipedia"
   ]
  },
  {
   "cell_type": "markdown",
   "metadata": {},
   "source": [
    "## The End\n",
    "***"
   ]
  }
 ],
 "metadata": {
  "kernelspec": {
   "display_name": "Python 3",
   "language": "python",
   "name": "python3"
  },
  "language_info": {
   "codemirror_mode": {
    "name": "ipython",
    "version": 3
   },
   "file_extension": ".py",
   "mimetype": "text/x-python",
   "name": "python",
   "nbconvert_exporter": "python",
   "pygments_lexer": "ipython3",
   "version": "3.11.5"
  }
 },
 "nbformat": 4,
 "nbformat_minor": 2
}
