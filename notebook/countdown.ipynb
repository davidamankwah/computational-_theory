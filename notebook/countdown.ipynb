{
 "cells": [
  {
   "cell_type": "markdown",
   "metadata": {},
   "source": [
    "## Countdown Numbers Game\n",
    "***"
   ]
  },
  {
   "cell_type": "markdown",
   "metadata": {},
   "source": [
    "The author is David Amankwah (G00394825@atu.ie).\n",
    "\n",
    "This notebook will explore the Countdown Numbers Game. There will be an overview of countdown game, with the challenge of figuring out a solution using the numbers and options provided. We'll go over the rules of the Countdown numbers game, the computational complexity of the game, and how to solve the game. To explore the Countdown game, use Python's solve_numbers function. I intend to use ChatGPT to assist with the code as I provide a detailed explanation of the approach and logic used.\n",
    "\n",
    "First, an overview of the Countdown numbers game will be provided to introduce the game and its rules."
   ]
  },
  {
   "cell_type": "markdown",
   "metadata": {},
   "source": [
    "## Overview of the Countdown numbers game.\n",
    "***"
   ]
  },
  {
   "cell_type": "markdown",
   "metadata": {},
   "source": [
    "![Count](./images/count.PNG) [<b>[5]</b>](https://wiki.apterous.org/Countdown)\n",
    "\n",
    "Countdown is a British game show that involves word and mathematical tasks [<b>[1]</b>](https://en.wikipedia.org/wiki/Countdown_%28game_show%29). The numbers round is the show's most popular segment, in which contestants use a set of six numbers and four basic arithmetic operations, such as addition, multiplication, and subtraction [<b>[2]</b>](https://www.channel4.com/programmes/countdown). The goal is to use the provided numbers, along with the arithmetic operations to reach a randomly generated target.\n",
    "\n",
    "The number part rules state that there are 20 small number cards and 6 large number cards available [<b>[3]</b>](https://www.daitx.com/2016/05/01/countdown-math/). The small numbers consist of numbers 1 to 10, two cards of each, while the large numbers have 25, 50, 75, and 100 numbers [<b>[3]</b>](https://www.daitx.com/2016/05/01/countdown-math/). There are six cards drawn and a number of large numbers will be chosen from 0 to 4 with remaining ones being small numbers [<b>[3]</b>](https://www.daitx.com/2016/05/01/countdown-math/).\n",
    "\n",
    "The cards in each category are drawn at random [<b>[3]</b>](https://www.daitx.com/2016/05/01/countdown-math/). The target is a three-digit number from 100 to 999 chosen at random with a uniform distribution, and only addition, division, subtraction, and multiplication are permitted [<b>[3]</b>](https://www.daitx.com/2016/05/01/countdown-math/). Contestants must use each of the six numbers exactly once, and all operations must produce integers [<b>[3]</b>](https://www.daitx.com/2016/05/01/countdown-math/).\n",
    "\n",
    "Points are awarded for the closest solution, and contestants score if both solutions are equally close [<b>[5]</b>](https://wiki.apterous.org/Countdown). 10 points are awarded for the correct answer, 7 points for a non-exact solution up to 5 points off the target, and 5 points for a solution between 6 and 10 points off the target [<b>[5]</b>](https://wiki.apterous.org/Countdown). If neither contestant gets within ten, no points are awarded [<b>[5]</b>](https://wiki.apterous.org/Countdown).\n",
    "\n",
    "With low targets, typically under 200, the large number is used last and added on, as 198 could be calculated from the remaining numbers [<b>[4]</b>](https://wiki.apterous.org/Numbers_game). These are the rules and techniques used in the numbers section of the countdown show. It is a difficult game in which contestants must devise a series of operations that will result in the target number while adhering to certain constraints.\n",
    "The combination of numerical manipulation and time pressure makes the Countdown numbers game an intellectually challenging task."
   ]
  },
  {
   "cell_type": "markdown",
   "metadata": {},
   "source": [
    "## Example of Numbers Round\n",
    "***"
   ]
  },
  {
   "cell_type": "markdown",
   "metadata": {},
   "source": [
    "I will give two examples of countdown number games. The first example shows two contestants attempting to reach the given target number by performing arithmetic operations on the selected numbers. \n",
    "\n",
    "<i>First Example: [<b>[1]</b>](https://en.wikipedia.org/wiki/Countdown_%28game_show%29)</i>\n",
    "\n",
    "Contestant One request two large numbers and four small numbers.\n",
    "\n",
    "The selection is:\n",
    "| 75, 50, 2, 3, 8, 7,| \n",
    "|--------------------|\n",
    "\n",
    "The given target is:\n",
    " | 812| \n",
    " |----|\n",
    "\n",
    " Contestant One declares 813 and Contestant Two delares 815.\n",
    " Contestant One is closer: 75 + 50 - 8 = 117 and 117 * 7 - (3*2) = 813, which earns 7\n",
    " points for being 1 away. Contestant Two does not score.\n",
    "\n",
    " This first example [<b>[1]</b>](https://en.wikipedia.org/wiki/Countdown_%28game_show%29) discusses the strategic elements involved in selecting the numbers and operations. The two large numbers gives the best chance of solving the game. However, One large number and five small numbers is the most popular selection. The most challenging selections are the zero or four large numbers.\n",
    "\n",
    "\n"
   ]
  },
  {
   "cell_type": "markdown",
   "metadata": {},
   "source": [
    "<i>Second Example: [<b>[1]</b>](https://en.wikipedia.org/wiki/Countdown_%28game_show%29)</i>\n",
    "\n",
    "The contestants want one on top (large), two from the second row (small), and three more on top.\n",
    "\n",
    "The selection is: \n",
    "| 50, 10, 6, 25, 100, 75| \n",
    "|--------------------|"
   ]
  },
  {
   "cell_type": "markdown",
   "metadata": {},
   "source": [
    "## Computational complexity of the countdown numbers game\n",
    "***"
   ]
  },
  {
   "cell_type": "markdown",
   "metadata": {},
   "source": [
    "There are different ways to measure the difficulty of a countdown game, depending on which aspect of the game you want to consider. One possible metric is the scale of the search space: the number of expressions that can be generated from the six numbers. This number can be very large and it depends on the order used and the operations used. For exapmple, there are 33,665,406 possible expression over the souce numbers [1;3;7;10;25;50], but only 4,672,540 of these expressions are valid, which is just under 14%  [<b>[8]</b>](https://www.cambridge.org/core/services/aop-cambridge-core/content/view/FCF81E290B194D1ACBF699842D4D4CA5/S0956796801004300a.pdf/the-countdown-problem.pdf).\n",
    "\n",
    "There are different algorithms that can be used to solve the game, each with their own advantages and disadvantages. Some algorithms try all possible expressions until a solution is found or the search space is exhausted.\n",
    "\n",
    "The game can be modified or expanded to make it more difficult for players. For example, some of these variations can make the game NP-hard, or even undecidable, meaning that there is no efficient algorithm capable of solving the game for all instances, or that there is no algorithm that allows to determine whether a solution exists or not [<b>[9]</b>](https://arxiv.org/pdf/1502.05450.pdf).\n",
    "\n",
    "The computational complexity of the Countdown numbers game is due to the vastness of the solution space, the limitations imposed by the game's rules, and the inherent difficulty of finding an exact solution within the constraints. Addressing these challenges necessitates the use of sophisticated algorithms, approaches, and optimization techniques to efficiently investigate the solution space within a reasonable time frame."
   ]
  },
  {
   "cell_type": "markdown",
   "metadata": {},
   "source": [
    "## Brute Force Approach\n",
    "***"
   ]
  },
  {
   "cell_type": "markdown",
   "metadata": {},
   "source": [
    "\n",
    "![Count](./images/brute.PNG) [<b>[11]</b>](https://www.engati.com/glossary/brute-force-search)\n",
    "\n",
    "The above image is a flowchart of a brute force search algorithm.\n",
    "\n",
    "Brute force serach is clear approach for solving the countdown numbers game by searching through all possible combinations or solutions until the correct one is found. In the countdown numbers game, brute force can be used to reach the target number by systematically trying out all possible combinations of the given numbers and arithmetic operations.\n",
    "\n",
    "In essence, the brute force search goes through each candidate and determines whether or not they meet the requirements of the problem statement. Brute-force search can locate the solution if it is present in the collection; however, the costs associated with this method are proportional to the total number of potential solutions [<b>[11]</b>](https://www.engati.com/glossary/brute-force-search)."
   ]
  },
  {
   "cell_type": "markdown",
   "metadata": {},
   "source": [
    "Brute force search guarantees the discovery of a solution, if one exists. Because it investigates all possible combinations, it will eventually discover a solution if one exists within the search scope. Brute-force algorithms rely purely on sheer computing power to find solutions for problems, as they try every single solution that could possible solve the problem [<b>[11]</b>](https://www.engati.com/glossary/brute-force-search)."
   ]
  },
  {
   "cell_type": "markdown",
   "metadata": {},
   "source": [
    "According to engati [<b>[11]</b>](https://www.engati.com/glossary/brute-force-search), the benefits of using the brute force search:\n",
    "\n",
    "1. The brute force approach gurantees that the solution will be found. \n",
    "\n",
    "2. It applies to problems across a wide range of domains.\n",
    "\n",
    "3. Brute force search is effective for solving small and simple problems.\n",
    "\n",
    "4. The approach is simple, requires no domain knowledge, and can be used as a comparison benchmark.[<b>[11]</b>](https://www.engati.com/glossary/brute-force-search)"
   ]
  },
  {
   "cell_type": "markdown",
   "metadata": {},
   "source": [
    "There some disadvantages of using the brute force approach:\n",
    "\n",
    "1. The brute force method is extremely inefficient. For real-time problems, algorithmic analysis frequently exceeds the O(N!) order of growth.\n",
    "\n",
    "2. Finding the correct solution using this method takes a long time. These algorithms operate slowly.\n",
    "\n",
    "\n",
    "3. Instead of using good algorithm design, these algorithms compromise the computer's power.\n",
    "\n",
    "4. These algorithms are neither constructive nor creative when compared to algorithms created using other design paradigms. [<b>[11]</b>](https://www.engati.com/glossary/brute-force-search)\n"
   ]
  },
  {
   "cell_type": "markdown",
   "metadata": {},
   "source": [
    "Brute force search is a simple but effective method for solving problems that involves thoroughly searching through all possible solutions. While it guarantees completeness, it may suffer from inefficiency and other drawbacks. However, it can be a useful tool for investigating and establishing a baseline for comparison with more advanced algorithms. "
   ]
  },
  {
   "cell_type": "markdown",
   "metadata": {},
   "source": [
    "## Heuristics\n",
    "***"
   ]
  },
  {
   "cell_type": "markdown",
   "metadata": {},
   "source": [
    "Heuristic techniques are dependable and convenient mental short cuts that you can apply to reduce the number of options you have when trying to solve a problem [<b>[12]</b>](https://www.mindtools.com/a01ufjx/heuristic-methods). In the Countdown Numbers Game, a heuristic approach can be used to guide the search for a solution by prioritizing number and operation combinations over other options."
   ]
  },
  {
   "cell_type": "markdown",
   "metadata": {},
   "source": [
    "Heuristics can be used in a variety of ways, such as trial and error, a rule of thumb or educated guess, and techniques developed from prior experiences [<b>[13]</b>](https://en.wikipedia.org/wiki/Heuristic). These strategies rely on readily available, albeit loosely applicable, information to control problem solving in machines and abstract issues [<b>[13]</b>](https://en.wikipedia.org/wiki/Heuristic). When classic methods are too slow for finding an exact solution or when classic methods fail to find any exact solution in search space [<b>[14]</b>](https://en.wikipedia.org/wiki/Heuristic_(computer_science)). A heuristic function is a function that ranks alternatives in search algorithms at each branching step based on available information to decide which brach to follow [<b>[14]</b>](https://en.wikipedia.org/wiki/Heuristic_(computer_science))."
   ]
  },
  {
   "cell_type": "markdown",
   "metadata": {},
   "source": [
    "Initially, the heuristic, like the full-space search algorithm, tests every possibility at each step, but it can halt the search at any time if the current possibility is worse than the best solution already found [<b>[14]</b>](https://en.wikipedia.org/wiki/Heuristic_(computer_science)). Since larger numbers have a greater potential impact on outcomes, prioritize selecting larger numbers from the available set. By choosing larger numbers, the solution space can be narrowed more quickly, potentially resulting in faster convergence. Operation selected to bring the intermediate result closer to the target number."
   ]
  },
  {
   "cell_type": "markdown",
   "metadata": {},
   "source": [
    "To eliminate bad paths early in such search problems, a heuristic can be applied to try good choices first [<b>[14]</b>](https://en.wikipedia.org/wiki/Heuristic_(computer_science)). As long as the heuristic is admissible, the heuristic maintains correctness while improving convergence [<b>[14]</b>](https://en.wikipedia.org/wiki/Heuristic_(computer_science)). Heuristic search algorithm that maintains a set number of the top results at every stage of the investigation. Branches that are unlikely to lead to a solution are eliminated. Heuristics are most useful when the advantages of making a quick decision outweigh the dangers of oversimplifying the problem [<b>[12]</b>](https://www.mindtools.com/a01ufjx/heuristic-methods). Remember that heuristics are about having a rough idea of the problem, not a precise solution [<b>[12]</b>](https://www.mindtools.com/a01ufjx/heuristic-methods).  "
   ]
  },
  {
   "cell_type": "markdown",
   "metadata": {},
   "source": [
    "By incorporating these heuristic approaches, the Countdown Numbers Game's solution search can be more effectively guided, potentially leading to faster and higher-quality solutions. Experimentation with heuristics is necessary to determine the most effective combination for a given problem instance."
   ]
  },
  {
   "cell_type": "markdown",
   "metadata": {},
   "source": [
    "## Simulated Annealing\n",
    "***"
   ]
  },
  {
   "cell_type": "markdown",
   "metadata": {},
   "source": [
    "Simulated annealing is a probabilistic method for estimating the global optimum of a given function [<b>[15]</b>](https://en.wikipedia.org/wiki/Simulated_annealing). It is a metaheuristic used to approximate global optimization in a large search space when solving an optimization problem [<b>[15]</b>](https://en.wikipedia.org/wiki/Simulated_annealing). Simulated Annealing can be effective for combinatorial optimization problems, such as the Countdown Numbers Game."
   ]
  },
  {
   "cell_type": "markdown",
   "metadata": {},
   "source": [
    "Simulated annealing is frequently used when the search space is discrete, or when finding an approximate global optimum is more important than finding a precise local optimum in a given amount of time [<b>[15]</b>](https://en.wikipedia.org/wiki/Simulated_annealing).The concept of slow cooling, as implemented in the simulated annealing algorithm, is interpreted as a gradual decrease in the probability of accepting worse solutions as the space solution is explored, allowing for a more extensive search for the global optimal solution [<b>[15]</b>](https://en.wikipedia.org/wiki/Simulated_annealing). At each time step, the algorithm selects a solution close to the current one at random, measures its quality, and moves to it based on the temperature-dependent probability of selecting better or worse solutions, which remain at 1 and decrease to zero during the search [<b>[15]</b>](https://en.wikipedia.org/wiki/Simulated_annealing). "
   ]
  },
  {
   "cell_type": "markdown",
   "metadata": {},
   "source": [
    "The optimization of a solution entails evaluating the neighbors of a problem state, which are new states formed by conservatively altering a state [<b>[15]</b>](https://en.wikipedia.org/wiki/Simulated_annealing). A \"move\" is a well-defined way in which states are altered to produce neighboring states, and different moves give different sets of neighboring states, and these moves usually result in minimal alterations of the last state, in an attempt to gradually improve the solution through iteratively improving its parts [<b>[15]</b>](https://en.wikipedia.org/wiki/Simulated_annealing). "
   ]
  },
  {
   "cell_type": "markdown",
   "metadata": {},
   "source": [
    "Advantages of simulated annealing include the ability to handle a wide range of optimization problems. It can also avoid local optima and has a good chance of discovering the global optimum [<b>[16]</b>](https://saturncloud.io/glossary/simulated-annealing/). The disadvantages of simulated annealing include the need for a carefully calibrated cooling schedule that is neither too fast nor too slow [<b>[16]</b>](https://saturncloud.io/glossary/simulated-annealing/). It may take a large number of iterations to find a good solution, especially for complex problems [<b>[16]</b>](https://saturncloud.io/glossary/simulated-annealing/)."
   ]
  },
  {
   "cell_type": "markdown",
   "metadata": {},
   "source": [
    "![Count](./images/simulated.PNG) [<b>[17]</b>](https://medium.com/analytics-vidhya/simulated-annealing-869e171e763c)"
   ]
  },
  {
   "cell_type": "markdown",
   "metadata": {},
   "source": [
    "The above image depicts a graph of a simulated annealing process. \"Starting Configuration\" is an initial guess for the value of X. The \"Perturb\" stage causes random changes in the value of X. The objective function is evaluated using the new value of X. As the process progresses, the temperature lowers. This allows the process to move away from local minima and toward the global minimum."
   ]
  },
  {
   "cell_type": "markdown",
   "metadata": {},
   "source": [
    "In the context of the Countdown Number Game, simulated annealing can be applied by representing each solution as a sequence of number and operators. Simulated Annealing can effectively navigate the large solution space of the Countdown Numbers Game and find high-quality solutions, even in the presence of complex constraints and objectives. "
   ]
  },
  {
   "cell_type": "markdown",
   "metadata": {},
   "source": [
    " ## Reverse Polish Notation (RPN)\n",
    " ***\n",
    "\n",
    " ![Count](./images/polish.png) [<b>[10]</b>](https://en.wikipedia.org/wiki/Reverse_Polish_notation)\n",
    " \n",
    " The image above displays the postfix notion (reverse polish notion).\n",
    "\n",
    "\n",
    "Using Reverse Polish Notion (RPN), also known as postfix notion, is an effective strategy for solving the Countdown numbers game. RPN could be useful for determining the computational complexity of the countdown numbers game. The term postfix notion refers to the overall scheme in mathematics and computer sciences, whereas reverse Polsih notation typically refers to the method used to enter calculations into software calculators, which frequently have additional side effects and implications depending on the actual implementation involving a stack [<b>[10]</b>](https://en.wikipedia.org/wiki/Reverse_Polish_notation). RPN allows us to represent operations in any order we want, without ambiguity or the use of parentheses. In RPN, we treat each subsequence [number number operator] as an operation [<b>[3]</b>](https://www.daitx.com/2016/05/01/countdown-math/).\n",
    "\n",
    "Convert the arithmetic expression representating the solution to RPN. The expressions are rearranged so that the operators appear after their operands. For example, to add 3 and 4 together, the expression is 3 4 + rather than 3 + 4 [<b>[10]</b>](https://en.wikipedia.org/wiki/Reverse_Polish_notation). The idea of a stack, a last-in and first-out, is critical to the left-to-right evaluation of RPN [<b>[10]</b>](https://en.wikipedia.org/wiki/Reverse_Polish_notation). In the example 3 4 -, the 3 is stacked first, followed by the 4, with the 4 on top and the 3 below [<b>[10]</b>](https://en.wikipedia.org/wiki/Reverse_Polish_notation). The subtraction operator removes the top two items from the stack, executes 3 - 4, and returns the result of -1 to the stack [<b>[10]</b>](https://en.wikipedia.org/wiki/Reverse_Polish_notation).\n",
    "\n",
    "![Count](./images/reverse.PNG) [<b>[3]</b>](https://www.daitx.com/2016/05/01/countdown-math/)\n",
    "\n",
    "The image above depicts RPN solotuion. There were three numbers (9, 100, 3) before the operator (+), which is fine because the operator only acts on the two numbers before 100 and 3 are added together [<b>[3]</b>](https://www.daitx.com/2016/05/01/countdown-math/). Number 9 is further down the stack and it sits there while 100 and 3 are being operated on, and only gets used afterwards [<b>[3]</b>](https://www.daitx.com/2016/05/01/countdown-math/).\n",
    "\n",
    "RPN expressions can be generated from the given set of numbers and operators that evaluate to the target number. A recursive or iterative approach can be used to generate all possible combinations of numbers and operators. Constraints can be applied to ensure that numbers are used exavtly once and that operations produce correct results.\n",
    "\n",
    "\n",
    "RPN simplifies problem solving and is useful in coding assessments. When programming, selecting the appropriate representation has an impact on solution complexity. It's a clever tool for dealing with Countdown's numbers game."
   ]
  },
  {
   "cell_type": "code",
   "execution_count": 3,
   "metadata": {},
   "outputs": [],
   "source": [
    "import random"
   ]
  },
  {
   "cell_type": "code",
   "execution_count": 17,
   "metadata": {},
   "outputs": [],
   "source": [
    "class RPNCalculator:\n",
    "    def __init__(self):\n",
    "        self.operators = {'+': lambda x, y: x + y,\n",
    "                          '-': lambda x, y: x - y,\n",
    "                          '*': lambda x, y: x * y,\n",
    "                          '/': lambda x, y: x / y if y != 0 else float('inf')}\n",
    "\n",
    "    def evaluate_rpn(self, expression):\n",
    "        stack = []\n",
    "        for token in expression:\n",
    "            if token.isdigit():\n",
    "                stack.append(float(token))\n",
    "            elif token in self.operators:\n",
    "                if len(stack) < 2:\n",
    "                    return None  # Invalid expression\n",
    "                operand2 = stack.pop()\n",
    "                operand1 = stack.pop()\n",
    "                result = self.operators[token](operand1, operand2)\n",
    "                stack.append(result)\n",
    "            else:\n",
    "                return None  # Invalid expression\n",
    "        if len(stack) == 1:\n",
    "            return stack[0]\n",
    "        else:\n",
    "            return None  # Invalid expression\n",
    "\n",
    "    def generate_rpn_expressions(self, numbers, target):\n",
    "        def backtrack(expression):\n",
    "            if len(expression) == len(numbers) - 1:\n",
    "                result = self.evaluate_rpn(expression)\n",
    "                if result == target:\n",
    "                    solutions.append(expression)\n",
    "                return\n",
    "            for operator in self.operators.keys():\n",
    "                backtrack(expression + [operator])\n",
    "        \n",
    "        solutions = []\n",
    "        backtrack([])\n",
    "        return solutions\n",
    "\n"
   ]
  },
  {
   "cell_type": "markdown",
   "metadata": {},
   "source": [
    "The above code solves the Countdown Numbers Game with Reverse Polish Notation. The '__init__' method is used to initialize the 'RPNCalculator' class. The 'operators' dictionary is created, with keys being arithmetic operators and values being lambda functions that represent the corresponding arithmetic operations."
   ]
  },
  {
   "cell_type": "markdown",
   "metadata": {},
   "source": [
    "The 'evaluate_rpn' function evaluates expressions in RPN. The method iterates through the tokens in the expressions and maintains a stack to execute the operations. If a token is a number, it is pushed to the stack. If a token is an operator, it retrieves the operands from the stack, performs the operations, and returns the results to the stack. When tokens are finished processing, it returns the last value on the stack as the result of the expressions. It returns none when there are no more values left, indicating that the expressions are invalid."
   ]
  },
  {
   "cell_type": "markdown",
   "metadata": {},
   "source": [
    "The 'generate_rpn_expressions' function uses backtracking to generate all possible RPN expressions for a given set of numbers and target. A nested backtrack is defined as the recursive exploration of all possible operator combinations. It compares the results of each operator combination to the target number. If so, the expression is added to the list of solutions."
   ]
  },
  {
   "cell_type": "code",
   "execution_count": 18,
   "metadata": {},
   "outputs": [],
   "source": [
    "def solve_numbers(numbers, target):\n",
    "    calculator = RPNCalculator()\n",
    "    rpn_expressions = calculator.generate_rpn_expressions(numbers, target)\n",
    "    valid_solutions = []\n",
    "    for expression in rpn_expressions:\n",
    "        result = calculator.evaluate_rpn(expression)\n",
    "        if result is not None and result == target:\n",
    "            valid_solutions.append(expression)\n",
    "    return valid_solutions"
   ]
  },
  {
   "cell_type": "code",
   "execution_count": 19,
   "metadata": {},
   "outputs": [
    {
     "name": "stdout",
     "output_type": "stream",
     "text": [
      "Target number: 869\n",
      "Valid solutions:\n"
     ]
    }
   ],
   "source": [
    "\n",
    "# Example usage:\n",
    "numbers = [75, 50, 2, 3, 8, 7]\n",
    "target = random.randint(100, 999)  # Generate a random target number\n",
    "print(\"Target number:\", target)\n",
    "solutions = solve_numbers(numbers, target)\n",
    "print(\"Valid solutions:\")\n",
    "for i, solution in enumerate(solutions, 1):\n",
    "    print(f\"Solution {i}: {' '.join(solution)} = {target}\")"
   ]
  },
  {
   "cell_type": "markdown",
   "metadata": {},
   "source": [
    "The code above uses the 'solve_numbers' function. It defines a list of numbers and generates a random target from 100 to 999. The'solve_numbers' function is called with the given numbers and target. The'solve_function' function produces an output that includes a solution."
   ]
  },
  {
   "cell_type": "markdown",
   "metadata": {},
   "source": [
    "## Explanation of Functional programming\n",
    "***"
   ]
  },
  {
   "cell_type": "markdown",
   "metadata": {},
   "source": [
    "Functional programming is a programming paradigm that focuses on using pure functions. Functional programming is based on the concept of composing programs from small, reusable, and predictable pieces of code [<b>[6]</b>](https://github.com/readme/guides/functional-programming-basics).\n",
    "\n",
    "These are functions that can produce the same result for the same input while making no changes to the external state or causing side effects [<b>[7]</b>](https://en.wikipedia.org/wiki/Functional_programming). Pure functions are easy to test, debug, and reason about [<b>[7]</b>](https://en.wikipedia.org/wiki/Functional_programming). Pure functions facilitate the testing of solution accuracy. Functional programming revolves around functions, ensuring a clear separation between data and behavior [<b>[6]</b>](https://github.com/readme/guides/functional-programming-basics).\n",
    "\n",
    "The countdown number game lends itself well to a recursive approach. Recursion involves repeating an operation until it reaches a base case, necessitating the maintenance of a stack that consumes space linearly based on the depth of recursion [<b>[7]</b>](https://en.wikipedia.org/wiki/Functional_programming). In the countdown game, a combination of numbers can be generated recursively and operations can be applied until the target number is achieved.\n",
    "\n",
    "High-order functions are those that acceept other functions as arguements or return them as results [<b>[7]</b>](https://en.wikipedia.org/wiki/Functional_programming). High-order functions support partial application, which means that a function is applied to its arguements one at a time, with each application returning a new function that accepts the next arguements [<b>[7]</b>](https://en.wikipedia.org/wiki/Functional_programming). Highe-order allows for the abstraction of common patterns and operations by filetering valid combinations of numbers or applying arthimetic operations. This abstraction promotes code reuse and modularity, ensuring the implementation's flexibility.\n",
    "\n",
    "Functional programming ensures versatility, ease of writing and debugging, and well-structured software. Code debugging is made simple by modularization and the absence of side effects [<b>[6]</b>](https://github.com/readme/guides/functional-programming-basics).\n",
    "\n",
    "We can use functional programming to find a solution on Countdown numbers game. Python lanaguage supports functional programming to some extent. The principles of high-order function, recursion, and pure functions serve as a foundation for implementing the solution to the Countdown Numbers game. Using these concepts, we can write concise, readable, and correct code that generates solutions within the constraints of the gmae."
   ]
  },
  {
   "cell_type": "markdown",
   "metadata": {},
   "source": [
    "## Implemetation of Countdown Numbers Game\n",
    "***"
   ]
  },
  {
   "cell_type": "markdown",
   "metadata": {},
   "source": [
    "<b><h4>Brute Force implementation </h4></b>"
   ]
  },
  {
   "cell_type": "code",
   "execution_count": 1,
   "metadata": {},
   "outputs": [],
   "source": [
    "import random\n",
    "import itertools"
   ]
  },
  {
   "cell_type": "code",
   "execution_count": 3,
   "metadata": {},
   "outputs": [],
   "source": [
    "def solve_numbers(numbers, target):\n",
    "    operators = ['+', '-', '*', '/']\n",
    "    expressions = generate_expressions(numbers, operators)\n",
    "    valid_solutions = []\n",
    "    for expression in expressions:\n",
    "        result = evaluate_expression(expression)\n",
    "        if result is not None and result == target:\n",
    "            valid_solutions.append(expression)\n",
    "    return valid_solutions"
   ]
  },
  {
   "cell_type": "markdown",
   "metadata": {},
   "source": [
    "The <b>'solve_numbers'</b> function uses the Brute Force Seach strategy to find valid solutions. It generates all possible expressions with numbers and operators, and then evaluates them to see if they match the target."
   ]
  },
  {
   "cell_type": "code",
   "execution_count": 4,
   "metadata": {},
   "outputs": [],
   "source": [
    "def generate_expressions(numbers, operators):\n",
    "    expressions = []\n",
    "    for nums in generate_combinations(numbers):\n",
    "        for ops in itertools.product(operators, repeat=len(nums) - 1):\n",
    "            expressions.append(list(zip(nums, ops + ('',))))\n",
    "    return expressions\n",
    "\n",
    "def generate_combinations(numbers):\n",
    "    combinations = []\n",
    "    for r in range(2, len(numbers) + 1):\n",
    "        combinations.extend(itertools.permutations(numbers, r))\n",
    "    return combinations\n",
    "\n",
    "def evaluate_expression(expression):\n",
    "    try:\n",
    "        result = expression[0][0]  # Initial result is the first number in the expression\n",
    "        for num, op in expression[1:]:\n",
    "            if op == '+':\n",
    "                result += num\n",
    "            elif op == '-':\n",
    "                result -= num\n",
    "            elif op == '*':\n",
    "                result *= num\n",
    "            elif op == '/':\n",
    "                if num == 0 or result % num != 0:\n",
    "                    return None  # Division by zero or non-integer result\n",
    "                result //= num\n",
    "        return result\n",
    "    except ZeroDivisionError:\n",
    "        return None  # Division by zero"
   ]
  },
  {
   "cell_type": "markdown",
   "metadata": {},
   "source": [
    " The <b>'generate_expressions'</b> generates all possible expressions using the numbers and operators. The <b>'generate_combinations'</b> generates all possible combinations of numbers. The <b>'evaluate_expression'</b> evaluates an expression by applying arithmetic operations. "
   ]
  },
  {
   "cell_type": "code",
   "execution_count": 6,
   "metadata": {},
   "outputs": [
    {
     "name": "stdout",
     "output_type": "stream",
     "text": [
      "Target number: 392\n",
      "Valid solutions (Brute Force):\n",
      "Solution 1: (50, '+') (2, '+') (3, '-') (8, '*') (75, '') = 392\n",
      "Solution 2: (50, '-') (2, '+') (3, '-') (8, '*') (75, '') = 392\n",
      "Solution 3: (50, '*') (2, '+') (3, '-') (8, '*') (75, '') = 392\n",
      "Solution 4: (50, '/') (2, '+') (3, '-') (8, '*') (75, '') = 392\n",
      "Solution 5: (50, '+') (2, '+') (3, '-') (8, '*') (7, '') = 392\n",
      "Solution 6: (50, '-') (2, '+') (3, '-') (8, '*') (7, '') = 392\n",
      "Solution 7: (50, '*') (2, '+') (3, '-') (8, '*') (7, '') = 392\n",
      "Solution 8: (50, '/') (2, '+') (3, '-') (8, '*') (7, '') = 392\n",
      "Solution 9: (50, '+') (2, '-') (8, '+') (7, '*') (75, '') = 392\n",
      "Solution 10: (50, '-') (2, '-') (8, '+') (7, '*') (75, '') = 392\n",
      "Solution 11: (50, '*') (2, '-') (8, '+') (7, '*') (75, '') = 392\n",
      "Solution 12: (50, '/') (2, '-') (8, '+') (7, '*') (75, '') = 392\n",
      "Solution 13: (50, '+') (2, '-') (8, '+') (7, '*') (3, '') = 392\n",
      "Solution 14: (50, '-') (2, '-') (8, '+') (7, '*') (3, '') = 392\n",
      "Solution 15: (50, '*') (2, '-') (8, '+') (7, '*') (3, '') = 392\n",
      "Solution 16: (50, '/') (2, '-') (8, '+') (7, '*') (3, '') = 392\n",
      "Solution 17: (50, '+') (3, '-') (2, '+') (8, '*') (75, '') = 392\n",
      "Solution 18: (50, '-') (3, '-') (2, '+') (8, '*') (75, '') = 392\n",
      "Solution 19: (50, '*') (3, '-') (2, '+') (8, '*') (75, '') = 392\n",
      "Solution 20: (50, '/') (3, '-') (2, '+') (8, '*') (75, '') = 392\n",
      "Solution 21: (50, '+') (3, '-') (2, '+') (8, '*') (7, '') = 392\n",
      "Solution 22: (50, '-') (3, '-') (2, '+') (8, '*') (7, '') = 392\n",
      "Solution 23: (50, '*') (3, '-') (2, '+') (8, '*') (7, '') = 392\n",
      "Solution 24: (50, '/') (3, '-') (2, '+') (8, '*') (7, '') = 392\n",
      "Solution 25: (50, '+') (8, '+') (2, '-') (7, '*') (75, '') = 392\n",
      "Solution 26: (50, '-') (8, '+') (2, '-') (7, '*') (75, '') = 392\n",
      "Solution 27: (50, '*') (8, '+') (2, '-') (7, '*') (75, '') = 392\n",
      "Solution 28: (50, '/') (8, '+') (2, '-') (7, '*') (75, '') = 392\n",
      "Solution 29: (50, '+') (8, '+') (2, '-') (7, '*') (3, '') = 392\n",
      "Solution 30: (50, '-') (8, '+') (2, '-') (7, '*') (3, '') = 392\n",
      "Solution 31: (50, '*') (8, '+') (2, '-') (7, '*') (3, '') = 392\n",
      "Solution 32: (50, '/') (8, '+') (2, '-') (7, '*') (3, '') = 392\n",
      "Solution 33: (2, '+') (50, '+') (3, '-') (8, '*') (75, '') = 392\n",
      "Solution 34: (2, '-') (50, '+') (3, '-') (8, '*') (75, '') = 392\n",
      "Solution 35: (2, '*') (50, '+') (3, '-') (8, '*') (75, '') = 392\n",
      "Solution 36: (2, '/') (50, '+') (3, '-') (8, '*') (75, '') = 392\n",
      "Solution 37: (2, '+') (50, '+') (3, '-') (8, '*') (7, '') = 392\n",
      "Solution 38: (2, '-') (50, '+') (3, '-') (8, '*') (7, '') = 392\n",
      "Solution 39: (2, '*') (50, '+') (3, '-') (8, '*') (7, '') = 392\n",
      "Solution 40: (2, '/') (50, '+') (3, '-') (8, '*') (7, '') = 392\n",
      "Solution 41: (2, '+') (3, '-') (50, '+') (8, '*') (75, '') = 392\n",
      "Solution 42: (2, '-') (3, '-') (50, '+') (8, '*') (75, '') = 392\n",
      "Solution 43: (2, '*') (3, '-') (50, '+') (8, '*') (75, '') = 392\n",
      "Solution 44: (2, '/') (3, '-') (50, '+') (8, '*') (75, '') = 392\n",
      "Solution 45: (2, '+') (3, '-') (50, '+') (8, '*') (7, '') = 392\n",
      "Solution 46: (2, '-') (3, '-') (50, '+') (8, '*') (7, '') = 392\n",
      "Solution 47: (2, '*') (3, '-') (50, '+') (8, '*') (7, '') = 392\n",
      "Solution 48: (2, '/') (3, '-') (50, '+') (8, '*') (7, '') = 392\n",
      "Solution 49: (2, '+') (3, '*') (50, '+') (7, '*') (75, '') = 392\n",
      "Solution 50: (2, '-') (3, '*') (50, '+') (7, '*') (75, '') = 392\n",
      "Solution 51: (2, '*') (3, '*') (50, '+') (7, '*') (75, '') = 392\n",
      "Solution 52: (2, '/') (3, '*') (50, '+') (7, '*') (75, '') = 392\n",
      "Solution 53: (2, '+') (3, '*') (50, '+') (7, '*') (8, '') = 392\n",
      "Solution 54: (2, '-') (3, '*') (50, '+') (7, '*') (8, '') = 392\n",
      "Solution 55: (2, '*') (3, '*') (50, '+') (7, '*') (8, '') = 392\n",
      "Solution 56: (2, '/') (3, '*') (50, '+') (7, '*') (8, '') = 392\n",
      "Solution 57: (3, '+') (2, '*') (50, '+') (7, '*') (75, '') = 392\n",
      "Solution 58: (3, '-') (2, '*') (50, '+') (7, '*') (75, '') = 392\n",
      "Solution 59: (3, '*') (2, '*') (50, '+') (7, '*') (75, '') = 392\n",
      "Solution 60: (3, '/') (2, '*') (50, '+') (7, '*') (75, '') = 392\n",
      "Solution 61: (3, '+') (2, '*') (50, '+') (7, '*') (8, '') = 392\n",
      "Solution 62: (3, '-') (2, '*') (50, '+') (7, '*') (8, '') = 392\n",
      "Solution 63: (3, '*') (2, '*') (50, '+') (7, '*') (8, '') = 392\n",
      "Solution 64: (3, '/') (2, '*') (50, '+') (7, '*') (8, '') = 392\n",
      "Solution 65: (8, '+') (50, '+') (2, '-') (7, '*') (75, '') = 392\n",
      "Solution 66: (8, '-') (50, '+') (2, '-') (7, '*') (75, '') = 392\n",
      "Solution 67: (8, '*') (50, '+') (2, '-') (7, '*') (75, '') = 392\n",
      "Solution 68: (8, '/') (50, '+') (2, '-') (7, '*') (75, '') = 392\n",
      "Solution 69: (8, '+') (50, '+') (2, '-') (7, '*') (3, '') = 392\n",
      "Solution 70: (8, '-') (50, '+') (2, '-') (7, '*') (3, '') = 392\n",
      "Solution 71: (8, '*') (50, '+') (2, '-') (7, '*') (3, '') = 392\n",
      "Solution 72: (8, '/') (50, '+') (2, '-') (7, '*') (3, '') = 392\n",
      "Solution 73: (8, '+') (2, '-') (50, '+') (7, '*') (75, '') = 392\n",
      "Solution 74: (8, '-') (2, '-') (50, '+') (7, '*') (75, '') = 392\n",
      "Solution 75: (8, '*') (2, '-') (50, '+') (7, '*') (75, '') = 392\n",
      "Solution 76: (8, '/') (2, '-') (50, '+') (7, '*') (75, '') = 392\n",
      "Solution 77: (8, '+') (2, '-') (50, '+') (7, '*') (3, '') = 392\n",
      "Solution 78: (8, '-') (2, '-') (50, '+') (7, '*') (3, '') = 392\n",
      "Solution 79: (8, '*') (2, '-') (50, '+') (7, '*') (3, '') = 392\n",
      "Solution 80: (8, '/') (2, '-') (50, '+') (7, '*') (3, '') = 392\n",
      "Solution 81: (75, '+') (50, '-') (3, '+') (2, '*') (7, '*') (8, '') = 392\n",
      "Solution 82: (75, '-') (50, '-') (3, '+') (2, '*') (7, '*') (8, '') = 392\n",
      "Solution 83: (75, '*') (50, '-') (3, '+') (2, '*') (7, '*') (8, '') = 392\n",
      "Solution 84: (75, '/') (50, '-') (3, '+') (2, '*') (7, '*') (8, '') = 392\n",
      "Solution 85: (75, '+') (50, '-') (3, '+') (7, '*') (2, '*') (8, '') = 392\n",
      "Solution 86: (75, '-') (50, '-') (3, '+') (7, '*') (2, '*') (8, '') = 392\n",
      "Solution 87: (75, '*') (50, '-') (3, '+') (7, '*') (2, '*') (8, '') = 392\n",
      "Solution 88: (75, '/') (50, '-') (3, '+') (7, '*') (2, '*') (8, '') = 392\n",
      "Solution 89: (75, '+') (50, '+') (8, '+') (3, '*') (7, '-') (2, '') = 392\n",
      "Solution 90: (75, '-') (50, '+') (8, '+') (3, '*') (7, '-') (2, '') = 392\n",
      "Solution 91: (75, '*') (50, '+') (8, '+') (3, '*') (7, '-') (2, '') = 392\n",
      "Solution 92: (75, '/') (50, '+') (8, '+') (3, '*') (7, '-') (2, '') = 392\n",
      "Solution 93: (75, '+') (2, '*') (3, '*') (50, '-') (8, '-') (7, '') = 392\n",
      "Solution 94: (75, '-') (2, '*') (3, '*') (50, '-') (8, '-') (7, '') = 392\n",
      "Solution 95: (75, '*') (2, '*') (3, '*') (50, '-') (8, '-') (7, '') = 392\n",
      "Solution 96: (75, '/') (2, '*') (3, '*') (50, '-') (8, '-') (7, '') = 392\n",
      "Solution 97: (75, '+') (2, '*') (3, '*') (8, '-') (50, '-') (7, '') = 392\n",
      "Solution 98: (75, '-') (2, '*') (3, '*') (8, '-') (50, '-') (7, '') = 392\n",
      "Solution 99: (75, '*') (2, '*') (3, '*') (8, '-') (50, '-') (7, '') = 392\n",
      "Solution 100: (75, '/') (2, '*') (3, '*') (8, '-') (50, '-') (7, '') = 392\n",
      "Solution 101: (75, '+') (3, '+') (50, '-') (2, '*') (7, '*') (8, '') = 392\n",
      "Solution 102: (75, '-') (3, '+') (50, '-') (2, '*') (7, '*') (8, '') = 392\n",
      "Solution 103: (75, '*') (3, '+') (50, '-') (2, '*') (7, '*') (8, '') = 392\n",
      "Solution 104: (75, '/') (3, '+') (50, '-') (2, '*') (7, '*') (8, '') = 392\n",
      "Solution 105: (75, '+') (3, '+') (50, '-') (7, '*') (2, '*') (8, '') = 392\n",
      "Solution 106: (75, '-') (3, '+') (50, '-') (7, '*') (2, '*') (8, '') = 392\n",
      "Solution 107: (75, '*') (3, '+') (50, '-') (7, '*') (2, '*') (8, '') = 392\n",
      "Solution 108: (75, '/') (3, '+') (50, '-') (7, '*') (2, '*') (8, '') = 392\n",
      "Solution 109: (75, '+') (3, '*') (2, '*') (50, '-') (8, '-') (7, '') = 392\n",
      "Solution 110: (75, '-') (3, '*') (2, '*') (50, '-') (8, '-') (7, '') = 392\n",
      "Solution 111: (75, '*') (3, '*') (2, '*') (50, '-') (8, '-') (7, '') = 392\n",
      "Solution 112: (75, '/') (3, '*') (2, '*') (50, '-') (8, '-') (7, '') = 392\n",
      "Solution 113: (75, '+') (3, '*') (2, '*') (8, '-') (50, '-') (7, '') = 392\n",
      "Solution 114: (75, '-') (3, '*') (2, '*') (8, '-') (50, '-') (7, '') = 392\n",
      "Solution 115: (75, '*') (3, '*') (2, '*') (8, '-') (50, '-') (7, '') = 392\n",
      "Solution 116: (75, '/') (3, '*') (2, '*') (8, '-') (50, '-') (7, '') = 392\n",
      "Solution 117: (75, '+') (8, '+') (50, '+') (3, '*') (7, '-') (2, '') = 392\n",
      "Solution 118: (75, '-') (8, '+') (50, '+') (3, '*') (7, '-') (2, '') = 392\n",
      "Solution 119: (75, '*') (8, '+') (50, '+') (3, '*') (7, '-') (2, '') = 392\n",
      "Solution 120: (75, '/') (8, '+') (50, '+') (3, '*') (7, '-') (2, '') = 392\n",
      "Solution 121: (75, '+') (7, '+') (3, '*') (50, '-') (2, '*') (8, '') = 392\n",
      "Solution 122: (75, '-') (7, '+') (3, '*') (50, '-') (2, '*') (8, '') = 392\n",
      "Solution 123: (75, '*') (7, '+') (3, '*') (50, '-') (2, '*') (8, '') = 392\n",
      "Solution 124: (75, '/') (7, '+') (3, '*') (50, '-') (2, '*') (8, '') = 392\n",
      "Solution 125: (75, '+') (7, '-') (3, '*') (8, '-') (2, '*') (50, '') = 392\n",
      "Solution 126: (75, '-') (7, '-') (3, '*') (8, '-') (2, '*') (50, '') = 392\n",
      "Solution 127: (75, '*') (7, '-') (3, '*') (8, '-') (2, '*') (50, '') = 392\n",
      "Solution 128: (75, '/') (7, '-') (3, '*') (8, '-') (2, '*') (50, '') = 392\n",
      "Solution 129: (50, '+') (75, '+') (8, '+') (3, '*') (7, '-') (2, '') = 392\n",
      "Solution 130: (50, '-') (75, '+') (8, '+') (3, '*') (7, '-') (2, '') = 392\n",
      "Solution 131: (50, '*') (75, '+') (8, '+') (3, '*') (7, '-') (2, '') = 392\n",
      "Solution 132: (50, '/') (75, '+') (8, '+') (3, '*') (7, '-') (2, '') = 392\n",
      "Solution 133: (50, '+') (8, '+') (75, '+') (3, '*') (7, '-') (2, '') = 392\n",
      "Solution 134: (50, '-') (8, '+') (75, '+') (3, '*') (7, '-') (2, '') = 392\n",
      "Solution 135: (50, '*') (8, '+') (75, '+') (3, '*') (7, '-') (2, '') = 392\n",
      "Solution 136: (50, '/') (8, '+') (75, '+') (3, '*') (7, '-') (2, '') = 392\n",
      "Solution 137: (50, '+') (8, '*') (2, '+') (3, '-') (7, '-') (75, '') = 392\n",
      "Solution 138: (50, '-') (8, '*') (2, '+') (3, '-') (7, '-') (75, '') = 392\n",
      "Solution 139: (50, '*') (8, '*') (2, '+') (3, '-') (7, '-') (75, '') = 392\n",
      "Solution 140: (50, '/') (8, '*') (2, '+') (3, '-') (7, '-') (75, '') = 392\n",
      "Solution 141: (50, '+') (8, '*') (2, '+') (7, '-') (3, '-') (75, '') = 392\n",
      "Solution 142: (50, '-') (8, '*') (2, '+') (7, '-') (3, '-') (75, '') = 392\n",
      "Solution 143: (50, '*') (8, '*') (2, '+') (7, '-') (3, '-') (75, '') = 392\n",
      "Solution 144: (50, '/') (8, '*') (2, '+') (7, '-') (3, '-') (75, '') = 392\n",
      "Solution 145: (50, '+') (8, '*') (3, '-') (2, '+') (7, '-') (75, '') = 392\n",
      "Solution 146: (50, '-') (8, '*') (3, '-') (2, '+') (7, '-') (75, '') = 392\n",
      "Solution 147: (50, '*') (8, '*') (3, '-') (2, '+') (7, '-') (75, '') = 392\n",
      "Solution 148: (50, '/') (8, '*') (3, '-') (2, '+') (7, '-') (75, '') = 392\n",
      "Solution 149: (50, '+') (8, '*') (3, '-') (7, '-') (2, '+') (75, '') = 392\n",
      "Solution 150: (50, '-') (8, '*') (3, '-') (7, '-') (2, '+') (75, '') = 392\n",
      "Solution 151: (50, '*') (8, '*') (3, '-') (7, '-') (2, '+') (75, '') = 392\n",
      "Solution 152: (50, '/') (8, '*') (3, '-') (7, '-') (2, '+') (75, '') = 392\n",
      "Solution 153: (50, '+') (8, '*') (7, '-') (2, '+') (3, '-') (75, '') = 392\n",
      "Solution 154: (50, '-') (8, '*') (7, '-') (2, '+') (3, '-') (75, '') = 392\n",
      "Solution 155: (50, '*') (8, '*') (7, '-') (2, '+') (3, '-') (75, '') = 392\n",
      "Solution 156: (50, '/') (8, '*') (7, '-') (2, '+') (3, '-') (75, '') = 392\n",
      "Solution 157: (50, '+') (8, '*') (7, '-') (3, '-') (2, '+') (75, '') = 392\n",
      "Solution 158: (50, '-') (8, '*') (7, '-') (3, '-') (2, '+') (75, '') = 392\n",
      "Solution 159: (50, '*') (8, '*') (7, '-') (3, '-') (2, '+') (75, '') = 392\n",
      "Solution 160: (50, '/') (8, '*') (7, '-') (3, '-') (2, '+') (75, '') = 392\n",
      "Solution 161: (2, '+') (75, '*') (3, '*') (50, '-') (8, '-') (7, '') = 392\n",
      "Solution 162: (2, '-') (75, '*') (3, '*') (50, '-') (8, '-') (7, '') = 392\n",
      "Solution 163: (2, '*') (75, '*') (3, '*') (50, '-') (8, '-') (7, '') = 392\n",
      "Solution 164: (2, '/') (75, '*') (3, '*') (50, '-') (8, '-') (7, '') = 392\n",
      "Solution 165: (2, '+') (75, '*') (3, '*') (8, '-') (50, '-') (7, '') = 392\n",
      "Solution 166: (2, '-') (75, '*') (3, '*') (8, '-') (50, '-') (7, '') = 392\n",
      "Solution 167: (2, '*') (75, '*') (3, '*') (8, '-') (50, '-') (7, '') = 392\n",
      "Solution 168: (2, '/') (75, '*') (3, '*') (8, '-') (50, '-') (7, '') = 392\n",
      "Solution 169: (2, '+') (3, '*') (75, '*') (50, '-') (8, '-') (7, '') = 392\n",
      "Solution 170: (2, '-') (3, '*') (75, '*') (50, '-') (8, '-') (7, '') = 392\n",
      "Solution 171: (2, '*') (3, '*') (75, '*') (50, '-') (8, '-') (7, '') = 392\n",
      "Solution 172: (2, '/') (3, '*') (75, '*') (50, '-') (8, '-') (7, '') = 392\n",
      "Solution 173: (2, '+') (3, '*') (75, '*') (8, '-') (50, '-') (7, '') = 392\n",
      "Solution 174: (2, '-') (3, '*') (75, '*') (8, '-') (50, '-') (7, '') = 392\n",
      "Solution 175: (2, '*') (3, '*') (75, '*') (8, '-') (50, '-') (7, '') = 392\n",
      "Solution 176: (2, '/') (3, '*') (75, '*') (8, '-') (50, '-') (7, '') = 392\n",
      "Solution 177: (2, '+') (3, '*') (50, '+') (7, '-') (8, '*') (75, '') = 392\n",
      "Solution 178: (2, '-') (3, '*') (50, '+') (7, '-') (8, '*') (75, '') = 392\n",
      "Solution 179: (2, '*') (3, '*') (50, '+') (7, '-') (8, '*') (75, '') = 392\n",
      "Solution 180: (2, '/') (3, '*') (50, '+') (7, '-') (8, '*') (75, '') = 392\n",
      "Solution 181: (2, '+') (3, '*') (7, '-') (50, '+') (8, '*') (75, '') = 392\n",
      "Solution 182: (2, '-') (3, '*') (7, '-') (50, '+') (8, '*') (75, '') = 392\n",
      "Solution 183: (2, '*') (3, '*') (7, '-') (50, '+') (8, '*') (75, '') = 392\n",
      "Solution 184: (2, '/') (3, '*') (7, '-') (50, '+') (8, '*') (75, '') = 392\n",
      "Solution 185: (3, '+') (75, '+') (50, '-') (2, '*') (7, '*') (8, '') = 392\n",
      "Solution 186: (3, '-') (75, '+') (50, '-') (2, '*') (7, '*') (8, '') = 392\n",
      "Solution 187: (3, '*') (75, '+') (50, '-') (2, '*') (7, '*') (8, '') = 392\n",
      "Solution 188: (3, '/') (75, '+') (50, '-') (2, '*') (7, '*') (8, '') = 392\n",
      "Solution 189: (3, '+') (75, '+') (50, '-') (7, '*') (2, '*') (8, '') = 392\n",
      "Solution 190: (3, '-') (75, '+') (50, '-') (7, '*') (2, '*') (8, '') = 392\n",
      "Solution 191: (3, '*') (75, '+') (50, '-') (7, '*') (2, '*') (8, '') = 392\n",
      "Solution 192: (3, '/') (75, '+') (50, '-') (7, '*') (2, '*') (8, '') = 392\n",
      "Solution 193: (3, '+') (75, '*') (2, '*') (50, '-') (8, '-') (7, '') = 392\n",
      "Solution 194: (3, '-') (75, '*') (2, '*') (50, '-') (8, '-') (7, '') = 392\n",
      "Solution 195: (3, '*') (75, '*') (2, '*') (50, '-') (8, '-') (7, '') = 392\n",
      "Solution 196: (3, '/') (75, '*') (2, '*') (50, '-') (8, '-') (7, '') = 392\n",
      "Solution 197: (3, '+') (75, '*') (2, '*') (8, '-') (50, '-') (7, '') = 392\n",
      "Solution 198: (3, '-') (75, '*') (2, '*') (8, '-') (50, '-') (7, '') = 392\n",
      "Solution 199: (3, '*') (75, '*') (2, '*') (8, '-') (50, '-') (7, '') = 392\n",
      "Solution 200: (3, '/') (75, '*') (2, '*') (8, '-') (50, '-') (7, '') = 392\n",
      "Solution 201: (3, '+') (50, '-') (75, '+') (2, '*') (7, '*') (8, '') = 392\n",
      "Solution 202: (3, '-') (50, '-') (75, '+') (2, '*') (7, '*') (8, '') = 392\n",
      "Solution 203: (3, '*') (50, '-') (75, '+') (2, '*') (7, '*') (8, '') = 392\n",
      "Solution 204: (3, '/') (50, '-') (75, '+') (2, '*') (7, '*') (8, '') = 392\n",
      "Solution 205: (3, '+') (50, '-') (75, '+') (7, '*') (2, '*') (8, '') = 392\n",
      "Solution 206: (3, '-') (50, '-') (75, '+') (7, '*') (2, '*') (8, '') = 392\n",
      "Solution 207: (3, '*') (50, '-') (75, '+') (7, '*') (2, '*') (8, '') = 392\n",
      "Solution 208: (3, '/') (50, '-') (75, '+') (7, '*') (2, '*') (8, '') = 392\n",
      "Solution 209: (3, '+') (2, '*') (75, '*') (50, '-') (8, '-') (7, '') = 392\n",
      "Solution 210: (3, '-') (2, '*') (75, '*') (50, '-') (8, '-') (7, '') = 392\n",
      "Solution 211: (3, '*') (2, '*') (75, '*') (50, '-') (8, '-') (7, '') = 392\n",
      "Solution 212: (3, '/') (2, '*') (75, '*') (50, '-') (8, '-') (7, '') = 392\n",
      "Solution 213: (3, '+') (2, '*') (75, '*') (8, '-') (50, '-') (7, '') = 392\n",
      "Solution 214: (3, '-') (2, '*') (75, '*') (8, '-') (50, '-') (7, '') = 392\n",
      "Solution 215: (3, '*') (2, '*') (75, '*') (8, '-') (50, '-') (7, '') = 392\n",
      "Solution 216: (3, '/') (2, '*') (75, '*') (8, '-') (50, '-') (7, '') = 392\n",
      "Solution 217: (3, '+') (2, '*') (50, '+') (7, '-') (8, '*') (75, '') = 392\n",
      "Solution 218: (3, '-') (2, '*') (50, '+') (7, '-') (8, '*') (75, '') = 392\n",
      "Solution 219: (3, '*') (2, '*') (50, '+') (7, '-') (8, '*') (75, '') = 392\n",
      "Solution 220: (3, '/') (2, '*') (50, '+') (7, '-') (8, '*') (75, '') = 392\n",
      "Solution 221: (3, '+') (2, '-') (7, '+') (50, '*') (8, '-') (75, '') = 392\n",
      "Solution 222: (3, '+') (2, '*') (7, '-') (50, '+') (8, '*') (75, '') = 392\n",
      "Solution 223: (3, '-') (2, '-') (7, '+') (50, '*') (8, '-') (75, '') = 392\n",
      "Solution 224: (3, '-') (2, '*') (7, '-') (50, '+') (8, '*') (75, '') = 392\n",
      "Solution 225: (3, '*') (2, '-') (7, '+') (50, '*') (8, '-') (75, '') = 392\n",
      "Solution 226: (3, '*') (2, '*') (7, '-') (50, '+') (8, '*') (75, '') = 392\n",
      "Solution 227: (3, '/') (2, '-') (7, '+') (50, '*') (8, '-') (75, '') = 392\n",
      "Solution 228: (3, '/') (2, '*') (7, '-') (50, '+') (8, '*') (75, '') = 392\n",
      "Solution 229: (3, '+') (7, '+') (2, '-') (50, '*') (8, '-') (75, '') = 392\n",
      "Solution 230: (3, '-') (7, '+') (2, '-') (50, '*') (8, '-') (75, '') = 392\n",
      "Solution 231: (3, '*') (7, '+') (2, '-') (50, '*') (8, '-') (75, '') = 392\n",
      "Solution 232: (3, '/') (7, '+') (2, '-') (50, '*') (8, '-') (75, '') = 392\n",
      "Solution 233: (8, '+') (75, '+') (50, '+') (3, '*') (7, '-') (2, '') = 392\n",
      "Solution 234: (8, '-') (75, '+') (50, '+') (3, '*') (7, '-') (2, '') = 392\n",
      "Solution 235: (8, '*') (75, '+') (50, '+') (3, '*') (7, '-') (2, '') = 392\n",
      "Solution 236: (8, '/') (75, '+') (50, '+') (3, '*') (7, '-') (2, '') = 392\n",
      "Solution 237: (8, '+') (50, '+') (75, '+') (3, '*') (7, '-') (2, '') = 392\n",
      "Solution 238: (8, '-') (50, '+') (75, '+') (3, '*') (7, '-') (2, '') = 392\n",
      "Solution 239: (8, '*') (50, '+') (75, '+') (3, '*') (7, '-') (2, '') = 392\n",
      "Solution 240: (8, '/') (50, '+') (75, '+') (3, '*') (7, '-') (2, '') = 392\n",
      "Solution 241: (8, '+') (50, '*') (2, '+') (3, '-') (7, '-') (75, '') = 392\n",
      "Solution 242: (8, '-') (50, '*') (2, '+') (3, '-') (7, '-') (75, '') = 392\n",
      "Solution 243: (8, '*') (50, '*') (2, '+') (3, '-') (7, '-') (75, '') = 392\n",
      "Solution 244: (8, '/') (50, '*') (2, '+') (3, '-') (7, '-') (75, '') = 392\n",
      "Solution 245: (8, '+') (50, '*') (2, '+') (7, '-') (3, '-') (75, '') = 392\n",
      "Solution 246: (8, '-') (50, '*') (2, '+') (7, '-') (3, '-') (75, '') = 392\n",
      "Solution 247: (8, '*') (50, '*') (2, '+') (7, '-') (3, '-') (75, '') = 392\n",
      "Solution 248: (8, '/') (50, '*') (2, '+') (7, '-') (3, '-') (75, '') = 392\n",
      "Solution 249: (8, '+') (50, '*') (3, '-') (2, '+') (7, '-') (75, '') = 392\n",
      "Solution 250: (8, '-') (50, '*') (3, '-') (2, '+') (7, '-') (75, '') = 392\n",
      "Solution 251: (8, '*') (50, '*') (3, '-') (2, '+') (7, '-') (75, '') = 392\n",
      "Solution 252: (8, '/') (50, '*') (3, '-') (2, '+') (7, '-') (75, '') = 392\n",
      "Solution 253: (8, '+') (50, '*') (3, '-') (7, '-') (2, '+') (75, '') = 392\n",
      "Solution 254: (8, '-') (50, '*') (3, '-') (7, '-') (2, '+') (75, '') = 392\n",
      "Solution 255: (8, '*') (50, '*') (3, '-') (7, '-') (2, '+') (75, '') = 392\n",
      "Solution 256: (8, '/') (50, '*') (3, '-') (7, '-') (2, '+') (75, '') = 392\n",
      "Solution 257: (8, '+') (50, '*') (7, '-') (2, '+') (3, '-') (75, '') = 392\n",
      "Solution 258: (8, '-') (50, '*') (7, '-') (2, '+') (3, '-') (75, '') = 392\n",
      "Solution 259: (8, '*') (50, '*') (7, '-') (2, '+') (3, '-') (75, '') = 392\n",
      "Solution 260: (8, '/') (50, '*') (7, '-') (2, '+') (3, '-') (75, '') = 392\n",
      "Solution 261: (8, '+') (50, '*') (7, '-') (3, '-') (2, '+') (75, '') = 392\n",
      "Solution 262: (8, '-') (50, '*') (7, '-') (3, '-') (2, '+') (75, '') = 392\n",
      "Solution 263: (8, '*') (50, '*') (7, '-') (3, '-') (2, '+') (75, '') = 392\n",
      "Solution 264: (8, '/') (50, '*') (7, '-') (3, '-') (2, '+') (75, '') = 392\n",
      "Solution 265: (7, '+') (75, '+') (3, '*') (50, '-') (2, '*') (8, '') = 392\n",
      "Solution 266: (7, '-') (75, '+') (3, '*') (50, '-') (2, '*') (8, '') = 392\n",
      "Solution 267: (7, '*') (75, '+') (3, '*') (50, '-') (2, '*') (8, '') = 392\n",
      "Solution 268: (7, '/') (75, '+') (3, '*') (50, '-') (2, '*') (8, '') = 392\n",
      "Solution 269: (7, '+') (2, '-') (3, '+') (50, '*') (8, '-') (75, '') = 392\n",
      "Solution 270: (7, '-') (2, '-') (3, '+') (50, '*') (8, '-') (75, '') = 392\n",
      "Solution 271: (7, '*') (2, '-') (3, '+') (50, '*') (8, '-') (75, '') = 392\n",
      "Solution 272: (7, '/') (2, '-') (3, '+') (50, '*') (8, '-') (75, '') = 392\n",
      "Solution 273: (7, '+') (3, '-') (50, '*') (2, '*') (8, '-') (75, '') = 392\n",
      "Solution 274: (7, '-') (3, '-') (50, '*') (2, '*') (8, '-') (75, '') = 392\n",
      "Solution 275: (7, '*') (3, '-') (50, '*') (2, '*') (8, '-') (75, '') = 392\n",
      "Solution 276: (7, '/') (3, '-') (50, '*') (2, '*') (8, '-') (75, '') = 392\n",
      "Solution 277: (7, '+') (3, '+') (2, '-') (50, '*') (8, '-') (75, '') = 392\n",
      "Solution 278: (7, '+') (3, '-') (2, '*') (50, '*') (8, '-') (75, '') = 392\n",
      "Solution 279: (7, '-') (3, '+') (2, '-') (50, '*') (8, '-') (75, '') = 392\n",
      "Solution 280: (7, '-') (3, '-') (2, '*') (50, '*') (8, '-') (75, '') = 392\n",
      "Solution 281: (7, '*') (3, '+') (2, '-') (50, '*') (8, '-') (75, '') = 392\n",
      "Solution 282: (7, '*') (3, '-') (2, '*') (50, '*') (8, '-') (75, '') = 392\n",
      "Solution 283: (7, '/') (3, '+') (2, '-') (50, '*') (8, '-') (75, '') = 392\n",
      "Solution 284: (7, '/') (3, '-') (2, '*') (50, '*') (8, '-') (75, '') = 392\n"
     ]
    }
   ],
   "source": [
    "# Example usage of brute force search\n",
    "numbers = [75, 50, 2, 3, 8, 7]\n",
    "target = random.randint(100, 999)  # Generate a random target number\n",
    "print(\"Target number:\", target)\n",
    "solutions_brute_force = solve_numbers_brute_force(numbers, target)\n",
    "print(\"Valid solutions (Brute Force):\")\n",
    "for i, solution in enumerate(solutions_brute_force, 1):\n",
    "    print(f\"Solution {i}: {' '.join(map(str, solution))} = {target}\")"
   ]
  },
  {
   "cell_type": "markdown",
   "metadata": {},
   "source": [
    "The code above demonstration of the usage of the brute force search function by generating a random set of numbers and a target number, then finding valid solutions using the brute force strategy."
   ]
  },
  {
   "cell_type": "markdown",
   "metadata": {},
   "source": [
    "<b><h4>Heuristic implementation </h4></b>"
   ]
  },
  {
   "cell_type": "code",
   "execution_count": 1,
   "metadata": {},
   "outputs": [],
   "source": [
    "def solve_numbers_heuristic(numbers, target):\n",
    "    # Initialize variables to store best solution and best score\n",
    "    best_solution = None\n",
    "    best_score = float('inf')  # Initialize with positive infinity for minimization\n",
    "\n",
    "    # Generate all possible permutations of the numbers\n",
    "    permutations = itertools.permutations(numbers)\n",
    "\n",
    "    # Iterate through each permutation\n",
    "    for perm in permutations:\n",
    "        # Generate all possible combinations of numbers and operations\n",
    "        expressions = generate_expressions(perm)\n",
    "        \n",
    "        # Evaluate each expression and calculate score\n",
    "        for expression in expressions:\n",
    "            result = evaluate_expression(expression)\n",
    "            if result is not None:\n",
    "                score = abs(result - target)  # Calculate score based on distance from target\n",
    "                if score < best_score:\n",
    "                    best_solution = expression\n",
    "                    best_score = score\n",
    "\n",
    "    return best_solution"
   ]
  },
  {
   "cell_type": "markdown",
   "metadata": {},
   "source": [
    "The code above displays variables that are initialized to store the best solution found thus far and its corresponding. To investigate different numerical orders, all possible permutations are generated. Each permutation generates all possible combinations of numbers and operations. Each expression is evaluated, and its score is calculated using the absolute difference between the result and the target. If a new solution with a lower score is discovered, the best solution is updated and the score is adjusted. Finally, the best solution is returned.  "
   ]
  },
  {
   "cell_type": "markdown",
   "metadata": {},
   "source": [
    "<b><h4>Simulated Annealing implementation </h4></b>"
   ]
  },
  {
   "cell_type": "code",
   "execution_count": 6,
   "metadata": {},
   "outputs": [],
   "source": [
    "import itertools\n",
    "import random\n",
    "import math\n",
    "\n",
    "operators = ['+', '-', '*', '/']\n",
    "\n",
    "def generate_random_expression(numbers):\n",
    "    expression = []\n",
    "    for num in numbers:\n",
    "        expression.append((num, random.choice(operators)))\n",
    "    return expression\n",
    "\n",
    "def evaluate_expression(expression):\n",
    "    try:\n",
    "        result = expression[0][0]  # Initial result is the first number in the expression\n",
    "        for num, op in expression[1:]:\n",
    "            if op == '+':\n",
    "                result += num\n",
    "            elif op == '-':\n",
    "                result -= num\n",
    "            elif op == '*':\n",
    "                result *= num\n",
    "            elif op == '/':\n",
    "                if num == 0 or result % num != 0:\n",
    "                    return None  # Division by zero or non-integer result\n",
    "                result //= num\n",
    "        return result\n",
    "    except ZeroDivisionError:\n",
    "        return None\n"
   ]
  },
  {
   "cell_type": "markdown",
   "metadata": {},
   "source": [
    "Expression operators and utility functions are used to generate random expressions and evaluate expressions."
   ]
  },
  {
   "cell_type": "code",
   "execution_count": 7,
   "metadata": {},
   "outputs": [],
   "source": [
    "def fitness(solution, target):\n",
    "    result = evaluate_expression(solution)\n",
    "    if result is None:\n",
    "        return float('inf')  # Return infinity for invalid solutions\n",
    "    return abs(result - target)\n"
   ]
  },
  {
   "cell_type": "markdown",
   "metadata": {},
   "source": [
    "The fitness function assesses the quality of a solution by calculating the absolute difference between the result of the expression and the target number."
   ]
  },
  {
   "cell_type": "code",
   "execution_count": 9,
   "metadata": {},
   "outputs": [],
   "source": [
    "def simulated_annealing(numbers, target, initial_temperature, cooling_rate, max_iterations):\n",
    "    current_solution = generate_random_expression(numbers)\n",
    "    current_fitness = fitness(current_solution, target)\n",
    "    best_solution = current_solution\n",
    "    best_fitness = current_fitness\n",
    "    \n",
    "    temperature = initial_temperature\n",
    "    \n",
    "    for i in range(max_iterations):\n",
    "        if best_fitness == 0:\n",
    "            break  # Found an exact solution\n",
    "        \n",
    "        neighbor_solution = generate_random_expression(numbers)\n",
    "        neighbor_fitness = fitness(neighbor_solution, target)\n",
    "        \n",
    "        if neighbor_fitness < current_fitness or random.random() < math.exp(-(neighbor_fitness - current_fitness) / temperature):\n",
    "            current_solution = neighbor_solution\n",
    "            current_fitness = neighbor_fitness\n",
    "        \n",
    "        if current_fitness < best_fitness:\n",
    "            best_solution = current_solution\n",
    "            best_fitness = current_fitness\n",
    "        \n",
    "        temperature *= cooling_rate\n",
    "    \n",
    "    return best_solution\n"
   ]
  },
  {
   "cell_type": "markdown",
   "metadata": {},
   "source": [
    "The code above displays <b>'simulated_annealing'</b> function, which uses the Simulated Annealing algorithm to find a solution that minimizes the fitness function. \n",
    "\n",
    "It iteratively generates neighbor solutions, assesses their fitness, and accepts or rejects them. The temperature decreases over time in proportion to the cooling rate. "
   ]
  },
  {
   "cell_type": "code",
   "execution_count": 10,
   "metadata": {},
   "outputs": [
    {
     "name": "stdout",
     "output_type": "stream",
     "text": [
      "Target number: 563\n",
      "Best solution: [(75, '-'), (50, '-'), (2, '-'), (3, '*'), (8, '*'), (7, '+')]\n",
      "Result: 559\n"
     ]
    }
   ],
   "source": [
    "numbers = [75, 50, 2, 3, 8, 7]\n",
    "target = random.randint(100, 999)\n",
    "print(\"Target number:\", target)\n",
    "solution = simulated_annealing(numbers, target, initial_temperature=1000, cooling_rate=0.95, max_iterations=1000)\n",
    "result = evaluate_expression(solution)\n",
    "print(\"Best solution:\", solution)\n",
    "print(\"Result:\", result)\n"
   ]
  },
  {
   "cell_type": "markdown",
   "metadata": {},
   "source": [
    "The above code defines a usage scenario in which we generate a random target number and use the simulated annealing algorithm to solve the Countdown Numbers Game. The best solution was discovered, and the results are returned for analysis."
   ]
  },
  {
   "cell_type": "markdown",
   "metadata": {},
   "source": [
    "## Conclusion\n",
    "***"
   ]
  },
  {
   "cell_type": "markdown",
   "metadata": {},
   "source": [
    "In conclusion, the Countdown Numbers Game is a fascinating computational problem-solving challenge that requires contestants to strategically manipulate a set of numbers and arithmetic operations in order to reach a target number. Throughout this assessment, various approaches were taken to address this challenge."
   ]
  },
  {
   "cell_type": "markdown",
   "metadata": {},
   "source": [
    "Brute force search is a straightforward method for searching all possible combinations of numbers and operations until a solution is found. Using brute force search methods may cause scalability issues. Reverse polish notation (RPN) is an effective way to represent artistic expression. RPN converts expressions to postfix notation and, by leveraging stack-based evaluation, provides a streamlined approach to the numbers game."
   ]
  },
  {
   "cell_type": "markdown",
   "metadata": {},
   "source": [
    "Simulated Annealing, a probabilistic optimization algorithm, provides a method for tackling combinatorial optimization problems. Simulated annealing effectively navigates complex search spaces and finds quality solutions by iteratively exploring the solution space while gradually decreasing the acceptance of suboptimal solutions. Heuristics also provides useful shortcuts and strategies for navigating complex solution spaces."
   ]
  },
  {
   "cell_type": "markdown",
   "metadata": {},
   "source": [
    "Furthermore, functional programming principles like recursion, high-order functions, and pure functions can be used to create elegant and modular solutions for the Countdown Numbers Game. These principles encourage code reuse, maintainability, and scalability, making them useful tools for algorithm design and implementation."
   ]
  },
  {
   "cell_type": "markdown",
   "metadata": {},
   "source": [
    "## References\n",
    "***"
   ]
  },
  {
   "cell_type": "markdown",
   "metadata": {},
   "source": [
    "[1] https://en.wikipedia.org/wiki/Countdown_%28game_show%29 Countdown (game show) | Wikipedia\n",
    "\n",
    "[2] https://www.channel4.com/programmes/countdown Countdown | Channel4\n",
    "\n",
    "[3] https://www.daitx.com/2016/05/01/countdown-math/ “Countdown” numbers game: the lowdown | daitx\n",
    "\n",
    "[4] https://wiki.apterous.org/Numbers_game Numbers game | Wiki\n",
    "\n",
    "[5] https://wiki.apterous.org/Countdown Countdown | Wiki\n",
    "\n",
    "[6] https://github.com/readme/guides/functional-programming-basics Functional Programming 101 | GitHub \n",
    "\n",
    "[7] https://en.wikipedia.org/wiki/Functional_programming Functional programming | Wikipedia\n",
    "\n",
    "[8] https://www.cambridge.org/core/services/aop-cambridge-core/content/view/FCF81E290B194D1ACBF699842D4D4CA5/S0956796801004300a.pdf/the-countdown-problem.pdf  The countdown problem | Cambridge University Press\n",
    "\n",
    "[9] https://arxiv.org/pdf/1502.05450.pdf (The Final) Countdown\n",
    "Preprint |  arXiv\n",
    "\n",
    "[10] https://en.wikipedia.org/wiki/Reverse_Polish_notation Reverse Polish notation | Wikipedia\n",
    "\n",
    "[11] https://www.engati.com/glossary/brute-force-search#:~:text=brute%2Dforce%20search%3F-,What%20is%20Brute%2Dforce%20search%3F,search%20or%20generate%20and%20test. Brute-force search | engati\n",
    "\n",
    "[12] https://www.mindtools.com/a01ufjx/heuristic-methods Heuristic-methods | MindTools\n",
    "\n",
    "[13] https://en.wikipedia.org/wiki/Heuristic Heuristic | Wikipedia\n",
    "\n",
    "[14] https://en.wikipedia.org/wiki/Heuristic_(computer_science) Heuristic (computer science) | Wikipedia\n",
    "\n",
    "[15] https://en.wikipedia.org/wiki/Simulated_annealing Simulated annealing | Wikipedia\n",
    "\n",
    "[16] https://saturncloud.io/glossary/simulated-annealing/ \n",
    "Simulated Annealing | SaturnCloud\n",
    "\n",
    "[17] https://medium.com/analytics-vidhya/simulated-annealing-869e171e763c Simulated Annealing| Medium"
   ]
  },
  {
   "cell_type": "markdown",
   "metadata": {},
   "source": [
    "## The End\n",
    "***"
   ]
  }
 ],
 "metadata": {
  "kernelspec": {
   "display_name": "Python 3",
   "language": "python",
   "name": "python3"
  },
  "language_info": {
   "codemirror_mode": {
    "name": "ipython",
    "version": 3
   },
   "file_extension": ".py",
   "mimetype": "text/x-python",
   "name": "python",
   "nbconvert_exporter": "python",
   "pygments_lexer": "ipython3",
   "version": "3.11.5"
  }
 },
 "nbformat": 4,
 "nbformat_minor": 2
}
