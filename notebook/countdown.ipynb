{
 "cells": [
  {
   "cell_type": "markdown",
   "metadata": {},
   "source": [
    "## Countdown Numbers Game\n",
    "***"
   ]
  },
  {
   "cell_type": "markdown",
   "metadata": {},
   "source": [
    "The author is David Amankwah (G00394825@atu.ie).\n",
    "\n",
    "This notebook will explore the Countdown Numbers Game. There will be an overview of countdown game, with the challenge of figuring out a solution using the numbers and options provided. We'll go over the rules of the Countdown numbers game, the computational complexity of the game, and how to solve the game. To explore the Countdown game, use Python's solve_numbers function. I intend to use ChatGPT to assist with the code as I provide a detailed explanation of the approach and logic used.\n",
    "\n",
    "First, an overview of the Countdown numbers game will be provided to introduce the game and its rules."
   ]
  },
  {
   "cell_type": "markdown",
   "metadata": {},
   "source": [
    "## Overview of the Countdown numbers game.\n",
    "***"
   ]
  },
  {
   "cell_type": "markdown",
   "metadata": {},
   "source": [
    "![Count](./images/count.PNG) [<b>[5]</b>](https://wiki.apterous.org/Countdown)\n",
    "\n",
    "Countdown is a British game show that involves word and mathematical tasks [<b>[1]</b>](https://en.wikipedia.org/wiki/Countdown_%28game_show%29). The numbers round is the show's most popular segment, in which contestants use a set of six numbers and four basic arithmetic operations, such as addition, multiplication, and subtraction [<b>[2]</b>](https://www.channel4.com/programmes/countdown). The goal is to use the provided numbers, along with the arithmetic operations to reach a randomly generated target.\n",
    "\n",
    "The number part rules state that there are 20 small number cards and 6 large number cards available [<b>[3]</b>](https://www.daitx.com/2016/05/01/countdown-math/). The small numbers consist of numbers 1 to 10, two cards of each, while the large numbers have 25, 50, 75, and 100 numbers [<b>[3]</b>](https://www.daitx.com/2016/05/01/countdown-math/). There are six cards drawn and a number of large numbers will be chosen from 0 to 4 with remaining ones being small numbers [<b>[3]</b>](https://www.daitx.com/2016/05/01/countdown-math/).\n",
    "\n",
    "The cards in each category are drawn at random [<b>[3]</b>](https://www.daitx.com/2016/05/01/countdown-math/). The target is a three-digit number from 100 to 999 chosen at random with a uniform distribution, and only addition, division, subtraction, and multiplication are permitted [<b>[3]</b>](https://www.daitx.com/2016/05/01/countdown-math/). Contestants must use each of the six numbers exactly once, and all operations must produce integers [<b>[3]</b>](https://www.daitx.com/2016/05/01/countdown-math/).\n",
    "\n",
    "Points are awarded for the closest solution, and contestants score if both solutions are equally close [<b>[5]</b>](https://wiki.apterous.org/Countdown). 10 points are awarded for the correct answer, 7 points for a non-exact solution up to 5 points off the target, and 5 points for a solution between 6 and 10 points off the target [<b>[5]</b>](https://wiki.apterous.org/Countdown). If neither contestant gets within ten, no points are awarded [<b>[5]</b>](https://wiki.apterous.org/Countdown).\n",
    "\n",
    "With low targets, typically under 200, the large number is used last and added on, as 198 could be calculated from the remaining numbers [<b>[4]</b>](https://wiki.apterous.org/Numbers_game). These are the rules and techniques used in the numbers section of the countdown show. It is a difficult game in which contestants must devise a series of operations that will result in the target number while adhering to certain constraints.\n",
    "The combination of numerical manipulation and time pressure makes the Countdown numbers game an intellectually challenging task."
   ]
  },
  {
   "cell_type": "markdown",
   "metadata": {},
   "source": [
    "## Example of Numbers Round"
   ]
  },
  {
   "cell_type": "markdown",
   "metadata": {},
   "source": [
    "I will give two examples of countdown number games. The first example shows two contestants attempting to reach the given target number by performing arithmetic operations on the selected numbers. \n",
    "\n",
    "<i>First Example: [<b>[1]</b>](https://en.wikipedia.org/wiki/Countdown_%28game_show%29)</i>\n",
    "\n",
    "Contestant One request two large numbers and four small numbers.\n",
    "\n",
    "The selection is:\n",
    "| 75, 50, 2, 3, 8, 7,| \n",
    "|--------------------|\n",
    "\n",
    "The given target is:\n",
    " | 812| \n",
    " |----|\n",
    "\n",
    " Contestant One declares 813 and Contestant Two delares 815.\n",
    " Contestant One is closer: 75 + 50 - 8 = 117 and 117 * 7 - (3*2) = 813, which earns 7\n",
    " points for being 1 away. Contestant Two does not score.\n",
    "\n",
    " This first example [<b>[1]</b>](https://en.wikipedia.org/wiki/Countdown_%28game_show%29) discusses the strategic elements involved in selecting the numbers and operations. The two large numbers gives the best chance of solving the game. However, One large number and five small numbers is the most popular selection. The most challenging selections are the zero or four large numbers.\n",
    "\n",
    "\n"
   ]
  },
  {
   "cell_type": "markdown",
   "metadata": {},
   "source": [
    "<i>Second Example: [<b>[1]</b>](https://en.wikipedia.org/wiki/Countdown_%28game_show%29)</i>\n",
    "\n",
    "The contestants want one on top (large), two from the second row (small), and three more on top.\n",
    "\n",
    "The selection is: \n",
    "| 50, 10, 6, 25, 100, 75| \n",
    "|--------------------|"
   ]
  },
  {
   "cell_type": "markdown",
   "metadata": {},
   "source": [
    "## Computational complexity of the countdown numbers game"
   ]
  },
  {
   "cell_type": "markdown",
   "metadata": {},
   "source": [
    "There are different ways to measure the difficulty of a countdown game, depending on which aspect of the game you want to consider. One possible metric is the scale of the search space: the number of expressions that can be generated from the six numbers. This number can be very large and it depends on the order used and the operations used. For exapmple, there are 33,665,406 possible expression over the souce numbers [1;3;7;10;25;50], but only 4,672,540 of these expressions are valid, which is just under 14%  [<b>[8]</b>](https://www.cambridge.org/core/services/aop-cambridge-core/content/view/FCF81E290B194D1ACBF699842D4D4CA5/S0956796801004300a.pdf/the-countdown-problem.pdf).\n",
    "\n",
    "There are different algorithms that can be used to solve the game, each with their own advantages and disadvantages. Some algorithms try all possible expressions until a solution is found or the search space is exhausted.\n",
    "\n",
    "The game can be modified or expanded to make it more difficult for players. For example, some of these variations can make the game NP-hard, or even undecidable, meaning that there is no efficient algorithm capable of solving the game for all instances, or that there is no algorithm that allows to determine whether a solution exists or not [<b>[9]</b>](https://arxiv.org/pdf/1502.05450.pdf).\n",
    "\n",
    "The computational complexity of the Countdown numbers game is due to the vastness of the solution space, the limitations imposed by the game's rules, and the inherent difficulty of finding an exact solution within the constraints. Addressing these challenges necessitates the use of sophisticated algorithms, approaches, and optimization techniques to efficiently investigate the solution space within a reasonable time frame."
   ]
  },
  {
   "cell_type": "markdown",
   "metadata": {},
   "source": [
    "## Brute Force Approach"
   ]
  },
  {
   "cell_type": "markdown",
   "metadata": {},
   "source": [
    "\n",
    "![Count](./images/brute.PNG) [<b>[12]</b>](https://www.engati.com/glossary/brute-force-search)\n",
    "\n",
    "The above image is a flowchart of a brute force search algorithm.\n",
    "\n",
    "Brute force serach is clear approach for solving the countdown numbers game by searching through all possible combinations or solutions until the correct one is found. In the countdown numbers game, brute force can be used to reach the target number by systematically trying out all possible combinations of the given numbers and arithmetic operations.\n",
    "\n",
    "In essence, the brute force search goes through each candidate and determines whether or not they meet the requirements of the problem statement. Brute-force search can locate the solution if it is present in the collection; however, the costs associated with this method are proportional to the total number of potential solutions [<b>[12]</b>](https://www.engati.com/glossary/brute-force-search)."
   ]
  },
  {
   "cell_type": "markdown",
   "metadata": {},
   "source": [
    "Brute force search guarantees the discovery of a solution, if one exists. Because it investigates all possible combinations, it will eventually discover a solution if one exists within the search scope. Brute-force algorithms rely purely on sheer computing power to find solutions for problems, as they try every single solution that could possible solve the problem [<b>[12]</b>](https://www.engati.com/glossary/brute-force-search)."
   ]
  },
  {
   "cell_type": "markdown",
   "metadata": {},
   "source": [
    "According to engati [<b>[12]</b>](https://www.engati.com/glossary/brute-force-search), the benefits of using the brute force search:\n",
    "\n",
    "1. The brute force approach gurantees that the solution will be found. \n",
    "\n",
    "2. It applies to problems across a wide range of domains.\n",
    "\n",
    "3. Brute force search is effective for solving small and simple problems.\n",
    "\n",
    "4. The approach is simple, requires no domain knowledge, and can be used as a comparison benchmark.[<b>[12]</b>](https://www.engati.com/glossary/brute-force-search)"
   ]
  },
  {
   "cell_type": "markdown",
   "metadata": {},
   "source": [
    "There some disadvantages of using the brute force approach:\n",
    "\n",
    "1. The brute force method is extremely inefficient. For real-time problems, algorithmic analysis frequently exceeds the O(N!) order of growth.\n",
    "\n",
    "2. Finding the correct solution using this method takes a long time. These algorithms operate slowly.\n",
    "\n",
    "\n",
    "3. Instead of using good algorithm design, these algorithms compromise the computer's power.\n",
    "\n",
    "4. These algorithms are neither constructive nor creative when compared to algorithms created using other design paradigms. [<b>[12]</b>](https://www.engati.com/glossary/brute-force-search)\n"
   ]
  },
  {
   "cell_type": "markdown",
   "metadata": {},
   "source": [
    "Brute force search is a simple but effective method for solving problems that involves thoroughly searching through all possible solutions. While it guarantees completeness, it may suffer from inefficiency and other drawbacks. However, it can be a useful tool for investigating and establishing a baseline for comparison with more advanced algorithms. "
   ]
  },
  {
   "cell_type": "markdown",
   "metadata": {},
   "source": [
    "## Heuristics"
   ]
  },
  {
   "cell_type": "markdown",
   "metadata": {},
   "source": [
    "Heuristic techniques are dependable and convenient mental short cuts that you can apply to reduce the number of options you have when trying to solve a problem [<b>[13]</b>](https://www.mindtools.com/a01ufjx/heuristic-methods). In the Countdown Numbers Game, a heuristic approach can be used to guide the search for a solution by prioritizing number and operation combinations over other options."
   ]
  },
  {
   "cell_type": "markdown",
   "metadata": {},
   "source": [
    " ## Reverse Polish Notation (RPN)\n",
    " ***\n",
    "\n",
    " ![Count](./images/polish.png) [<b>[10]</b>](https://en.wikipedia.org/wiki/Reverse_Polish_notation)\n",
    " \n",
    " The image above displays the postfix notion (reverse polish notion).\n",
    "\n",
    "\n",
    "Using Reverse Polish Notion (RPN), also known as postfix notion, is an effective strategy for solving the Countdown numbers game. RPN could be useful for determining the computational complexity of the countdown numbers game. The term postfix notion refers to the overall scheme in mathematics and computer sciences, whereas reverse Polsih notation typically refers to the method used to enter calculations into software calculators, which frequently have additional side effects and implications depending on the actual implementation involving a stack [<b>[10]</b>](https://en.wikipedia.org/wiki/Reverse_Polish_notation). RPN allows us to represent operations in any order we want, without ambiguity or the use of parentheses. In RPN, we treat each subsequence [number number operator] as an operation [<b>[3]</b>](https://www.daitx.com/2016/05/01/countdown-math/).\n",
    "\n",
    "Convert the arithmetic expression representating the solution to RPN. The expressions are rearranged so that the operators appear after their operands. For example, to add 3 and 4 together, the expression is 3 4 + rather than 3 + 4 [<b>[10]</b>](https://en.wikipedia.org/wiki/Reverse_Polish_notation). The idea of a stack, a last-in and first-out, is critical to the left-to-right evaluation of RPN [<b>[10]</b>](https://en.wikipedia.org/wiki/Reverse_Polish_notation). In the example 3 4 -, the 3 is stacked first, followed by the 4, with the 4 on top and the 3 below [<b>[10]</b>](https://en.wikipedia.org/wiki/Reverse_Polish_notation). The subtraction operator removes the top two items from the stack, executes 3 - 4, and returns the result of -1 to the stack [<b>[10]</b>](https://en.wikipedia.org/wiki/Reverse_Polish_notation).\n",
    "\n",
    "![Count](./images/reverse.PNG) [<b>[3]</b>](https://www.daitx.com/2016/05/01/countdown-math/)\n",
    "\n",
    "The image above depicts RPN solotuion. There were three numbers (9, 100, 3) before the operator (+), which is fine because the operator only acts on the two numbers before 100 and 3 are added together [<b>[3]</b>](https://www.daitx.com/2016/05/01/countdown-math/). Number 9 is further down the stack and it sits there while 100 and 3 are being operated on, and only gets used afterwards [<b>[3]</b>](https://www.daitx.com/2016/05/01/countdown-math/).\n",
    "\n",
    "RPN expressions can be generated from the given set of numbers and operators that evaluate to the target number. A recursive or iterative approach can be used to generate all possible combinations of numbers and operators. Constraints can be applied to ensure that numbers are used exavtly once and that operations produce correct results.\n",
    "\n",
    "\n",
    "RPN simplifies problem solving and is useful in coding assessments. When programming, selecting the appropriate representation has an impact on solution complexity. It's a clever tool for dealing with Countdown's numbers game."
   ]
  },
  {
   "cell_type": "code",
   "execution_count": 3,
   "metadata": {},
   "outputs": [],
   "source": [
    "import random"
   ]
  },
  {
   "cell_type": "code",
   "execution_count": 17,
   "metadata": {},
   "outputs": [],
   "source": [
    "class RPNCalculator:\n",
    "    def __init__(self):\n",
    "        self.operators = {'+': lambda x, y: x + y,\n",
    "                          '-': lambda x, y: x - y,\n",
    "                          '*': lambda x, y: x * y,\n",
    "                          '/': lambda x, y: x / y if y != 0 else float('inf')}\n",
    "\n",
    "    def evaluate_rpn(self, expression):\n",
    "        stack = []\n",
    "        for token in expression:\n",
    "            if token.isdigit():\n",
    "                stack.append(float(token))\n",
    "            elif token in self.operators:\n",
    "                if len(stack) < 2:\n",
    "                    return None  # Invalid expression\n",
    "                operand2 = stack.pop()\n",
    "                operand1 = stack.pop()\n",
    "                result = self.operators[token](operand1, operand2)\n",
    "                stack.append(result)\n",
    "            else:\n",
    "                return None  # Invalid expression\n",
    "        if len(stack) == 1:\n",
    "            return stack[0]\n",
    "        else:\n",
    "            return None  # Invalid expression\n",
    "\n",
    "    def generate_rpn_expressions(self, numbers, target):\n",
    "        def backtrack(expression):\n",
    "            if len(expression) == len(numbers) - 1:\n",
    "                result = self.evaluate_rpn(expression)\n",
    "                if result == target:\n",
    "                    solutions.append(expression)\n",
    "                return\n",
    "            for operator in self.operators.keys():\n",
    "                backtrack(expression + [operator])\n",
    "        \n",
    "        solutions = []\n",
    "        backtrack([])\n",
    "        return solutions\n",
    "\n"
   ]
  },
  {
   "cell_type": "markdown",
   "metadata": {},
   "source": [
    "The above code solves the Countdown Numbers Game with Reverse Polish Notation. The '__init__' method is used to initialize the 'RPNCalculator' class. The 'operators' dictionary is created, with keys being arithmetic operators and values being lambda functions that represent the corresponding arithmetic operations."
   ]
  },
  {
   "cell_type": "markdown",
   "metadata": {},
   "source": [
    "The 'evaluate_rpn' function evaluates expressions in RPN. The method iterates through the tokens in the expressions and maintains a stack to execute the operations. If a token is a number, it is pushed to the stack. If a token is an operator, it retrieves the operands from the stack, performs the operations, and returns the results to the stack. When tokens are finished processing, it returns the last value on the stack as the result of the expressions. It returns none when there are no more values left, indicating that the expressions are invalid."
   ]
  },
  {
   "cell_type": "markdown",
   "metadata": {},
   "source": [
    "The 'generate_rpn_expressions' function uses backtracking to generate all possible RPN expressions for a given set of numbers and target. A nested backtrack is defined as the recursive exploration of all possible operator combinations. It compares the results of each operator combination to the target number. If so, the expression is added to the list of solutions."
   ]
  },
  {
   "cell_type": "code",
   "execution_count": 18,
   "metadata": {},
   "outputs": [],
   "source": [
    "def solve_numbers(numbers, target):\n",
    "    calculator = RPNCalculator()\n",
    "    rpn_expressions = calculator.generate_rpn_expressions(numbers, target)\n",
    "    valid_solutions = []\n",
    "    for expression in rpn_expressions:\n",
    "        result = calculator.evaluate_rpn(expression)\n",
    "        if result is not None and result == target:\n",
    "            valid_solutions.append(expression)\n",
    "    return valid_solutions"
   ]
  },
  {
   "cell_type": "code",
   "execution_count": 19,
   "metadata": {},
   "outputs": [
    {
     "name": "stdout",
     "output_type": "stream",
     "text": [
      "Target number: 869\n",
      "Valid solutions:\n"
     ]
    }
   ],
   "source": [
    "\n",
    "# Example usage:\n",
    "numbers = [75, 50, 2, 3, 8, 7]\n",
    "target = random.randint(100, 999)  # Generate a random target number\n",
    "print(\"Target number:\", target)\n",
    "solutions = solve_numbers(numbers, target)\n",
    "print(\"Valid solutions:\")\n",
    "for i, solution in enumerate(solutions, 1):\n",
    "    print(f\"Solution {i}: {' '.join(solution)} = {target}\")"
   ]
  },
  {
   "cell_type": "markdown",
   "metadata": {},
   "source": [
    "The code above uses the 'solve_numbers' function. It defines a list of numbers and generates a random target from 100 to 999. The'solve_numbers' function is called with the given numbers and target. The'solve_function' function produces an output that includes a solution."
   ]
  },
  {
   "cell_type": "code",
   "execution_count": 1,
   "metadata": {},
   "outputs": [],
   "source": [
    "def postfix_to_infix(postfix):\n",
    "    \"\"\"\n",
    "    :param postfix: tuple containing solution in reverse polish notation\n",
    "    :return: string of solution in polish notation\n",
    "    \"\"\"\n",
    "    soln = list(postfix)\n",
    "    while True:\n",
    "        try:\n",
    "            op_idx, op = [(idx, tkn) for idx, tkn in enumerate(soln) if tkn in ['+', '-', '*', '/']][0]\n",
    "        except IndexError:\n",
    "            break\n",
    "        else:\n",
    "            block = '(' + str(soln[op_idx - 2]) + op + str(soln[op_idx - 1]) + ')'\n",
    "            soln[op_idx - 2:op_idx + 1] = [''.join(block)]\n",
    "    return soln\n"
   ]
  },
  {
   "cell_type": "markdown",
   "metadata": {},
   "source": [
    "In the above code [<b>[11]</b>](https://codereview.stackexchange.com/questions/190533/countdown-numbers-game-solution-generator), the 'postfix_to_infix' function takes a tuple that has a solution in RPN and convert it to a string in Polish notation. It loops through the RPN expression, identifies operators, and wraps the operands with parentheses to make the infix expression. The infix expression returns as a string."
   ]
  },
  {
   "cell_type": "code",
   "execution_count": 2,
   "metadata": {},
   "outputs": [
    {
     "name": "stdout",
     "output_type": "stream",
     "text": [
      "\n",
      "    =====================================\n",
      "    Welcome to Countdown, Python version!\n",
      "    =====================================\n",
      "    \n",
      "[25, 100, 75, 3, 6, 4]\n",
      "Target: 871\n",
      "No solution found!\n",
      "Do you want to play again (y/n)?\n",
      "Do you want to play again (y/n)?\n"
     ]
    }
   ],
   "source": [
    "import random\n",
    "import itertools as it\n",
    "from more_itertools import distinct_permutations\n",
    "import operator\n",
    "\n",
    "def main():\n",
    "    # Print welcome message\n",
    "    print(\"\"\"\n",
    "    =====================================\n",
    "    Welcome to Countdown, Python version!\n",
    "    =====================================\n",
    "    \"\"\")\n",
    "\n",
    "    # *** <Start game> ***\n",
    "    play_new_game = True\n",
    "    while play_new_game:\n",
    "        # Generate the set of possible numbers allowed by Countdown rules\n",
    "        large_numbers = [25, 50, 75, 100]\n",
    "        small_numbers = list(range(1, 11)) * 2\n",
    "\n",
    "        # Generate six number tiles according to user input for large numbers\n",
    "        while True:\n",
    "            try:\n",
    "                usr_large_num = int(input(\"How many LARGE numbers do you want (0-4)? \"))\n",
    "            except ValueError:\n",
    "                pass\n",
    "            else:\n",
    "                if 0 <= usr_large_num <= 4:\n",
    "                    break\n",
    "        six_tiles = random.sample(large_numbers, usr_large_num) + \\\n",
    "                    random.sample(small_numbers, 6 - usr_large_num)\n",
    "\n",
    "        # Generate random target output: any three-digit number\n",
    "        target = random.randint(100, 999)\n",
    "\n",
    "        print(six_tiles)\n",
    "        print(f\"Target: {target}\")\n",
    "\n",
    "        ops_tiles = {\"+\": operator.add,\n",
    "                     \"-\": operator.sub,\n",
    "                     \"*\": operator.mul,\n",
    "                     \"/\": operator.truediv}\n",
    "\n",
    "        for nums in distinct_permutations(six_tiles):\n",
    "            result = None  # Define and initialize result outside the loop\n",
    "            for ops in it.combinations_with_replacement(ops_tiles.keys(), 4):  # Access the keys of ops_tiles\n",
    "                ops = tuple(str(op) for op in ops)  # Convert the tuple of operators to a string\n",
    "                combined = tuple(zip(nums, ops))  # Zip nums and ops together\n",
    "                postfix_gen = (pf for pf in distinct_permutations(combined) if\n",
    "                               pf[0] not in ops_tiles and pf[1] not in ops_tiles)\n",
    "                for postfix in postfix_gen:\n",
    "                    stack = list(postfix[0:2])\n",
    "                    for idx, token in enumerate(postfix[2:], start=2):\n",
    "                        if token in ops_tiles:\n",
    "                            try:\n",
    "                                operand_2 = stack.pop()\n",
    "                                operand_1 = stack.pop()\n",
    "                            except IndexError:\n",
    "                                break\n",
    "                            else:\n",
    "                                try:\n",
    "                                    result = ops_tiles[token](operand_1, operand_2)\n",
    "                                except ZeroDivisionError:\n",
    "                                    break\n",
    "                                else:\n",
    "                                    if (result < 0) or (result != int(result)):\n",
    "                                        break\n",
    "                                    elif result == target:\n",
    "                                        postfix = postfix[0:idx + 1]\n",
    "                                        break\n",
    "                                    else:\n",
    "                                        stack.append(result)\n",
    "                        else:\n",
    "                            stack.append(token)\n",
    "                    if result == target:\n",
    "                        break\n",
    "                else:\n",
    "                    continue\n",
    "                break\n",
    "            else:\n",
    "                continue\n",
    "            break\n",
    "\n",
    "        if result != target:\n",
    "            print(\"No solution found!\")\n",
    "        else:\n",
    "            print(postfix)\n",
    "            print(postfix_to_infix(postfix))\n",
    "\n",
    "        while True:\n",
    "            try:\n",
    "                print(\"Do you want to play again (y/n)?\")\n",
    "                play_again = input()[0]\n",
    "            except IndexError:\n",
    "                pass\n",
    "            else:\n",
    "                if play_again.lower() == 'n':\n",
    "                    play_new_game = False\n",
    "                    break\n",
    "                elif play_again.lower() == 'y':\n",
    "                    print(\"\\n==========\")\n",
    "                    break\n",
    "\n",
    "\n",
    "if __name__ == '__main__':\n",
    "    main()\n"
   ]
  },
  {
   "cell_type": "markdown",
   "metadata": {},
   "source": [
    "The above code [<b>[11]</b>](https://codereview.stackexchange.com/questions/190533/countdown-numbers-game-solution-generator) is a Countdown numbers solver that employs reverse polish notation to solve the problem. \n",
    "\n",
    "1. The code follows the game's rules, allowing the player to select how many large numbers they want, and then the six numbers are chosen at random. The target number is also printed.\n",
    "\n",
    "2. A brute force approach is taken to finding a solution. Reverse Polish notation is used in the solution-searching algorithm.\n",
    "\n",
    "3. If available, print the solution using standard Polish notation. [<b>[11]</b>](https://codereview.stackexchange.com/questions/190533/countdown-numbers-game-solution-generator)"
   ]
  },
  {
   "cell_type": "markdown",
   "metadata": {},
   "source": [
    "The above codes are from Code Review [<b>[11]</b>](https://codereview.stackexchange.com/questions/190533/countdown-numbers-game-solution-generator). The code is well structured and effectively implements the Countdown game using Reverse Polish Notation. It offers an engaging experience for users to solve the numbers game."
   ]
  },
  {
   "cell_type": "markdown",
   "metadata": {},
   "source": [
    "## Explanation of Functional programming\n",
    "***"
   ]
  },
  {
   "cell_type": "markdown",
   "metadata": {},
   "source": [
    "Functional programming is a programming paradigm that focuses on using pure functions. Functional programming is based on the concept of composing programs from small, reusable, and predictable pieces of code [<b>[6]</b>](https://github.com/readme/guides/functional-programming-basics).\n",
    "\n",
    "These are functions that can produce the same result for the same input while making no changes to the external state or causing side effects [<b>[7]</b>](https://en.wikipedia.org/wiki/Functional_programming). Pure functions are easy to test, debug, and reason about [<b>[7]</b>](https://en.wikipedia.org/wiki/Functional_programming). Pure functions facilitate the testing of solution accuracy. Functional programming revolves around functions, ensuring a clear separation between data and behavior [<b>[6]</b>](https://github.com/readme/guides/functional-programming-basics).\n",
    "\n",
    "The countdown number game lends itself well to a recursive approach. Recursion involves repeating an operation until it reaches a base case, necessitating the maintenance of a stack that consumes space linearly based on the depth of recursion [<b>[7]</b>](https://en.wikipedia.org/wiki/Functional_programming). In the countdown game, a combination of numbers can be generated recursively and operations can be applied until the target number is achieved.\n",
    "\n",
    "High-order functions are those that acceept other functions as arguements or return them as results [<b>[7]</b>](https://en.wikipedia.org/wiki/Functional_programming). High-order functions support partial application, which means that a function is applied to its arguements one at a time, with each application returning a new function that accepts the next arguements [<b>[7]</b>](https://en.wikipedia.org/wiki/Functional_programming). Highe-order allows for the abstraction of common patterns and operations by filetering valid combinations of numbers or applying arthimetic operations. This abstraction promotes code reuse and modularity, ensuring the implementation's flexibility.\n",
    "\n",
    "Functional programming ensures versatility, ease of writing and debugging, and well-structured software. Code debugging is made simple by modularization and the absence of side effects [<b>[6]</b>](https://github.com/readme/guides/functional-programming-basics).\n",
    "\n",
    "We can use functional programming to find a solution on Countdown numbers game. Python lanaguage supports functional programming to some extent. The principles of high-order function, recursion, and pure functions serve as a foundation for implementing the solution to the Countdown Numbers game. Using these concepts, we can write concise, readable, and correct code that generates solutions within the constraints of the gmae."
   ]
  },
  {
   "cell_type": "markdown",
   "metadata": {},
   "source": [
    "## References\n",
    "***"
   ]
  },
  {
   "cell_type": "markdown",
   "metadata": {},
   "source": [
    "[1] https://en.wikipedia.org/wiki/Countdown_%28game_show%29 Countdown (game show) | Wikipedia\n",
    "\n",
    "[2] https://www.channel4.com/programmes/countdown Countdown | Channel4\n",
    "\n",
    "[3] https://www.daitx.com/2016/05/01/countdown-math/ “Countdown” numbers game: the lowdown | daitx\n",
    "\n",
    "[4] https://wiki.apterous.org/Numbers_game Numbers game | Wiki\n",
    "\n",
    "[5] https://wiki.apterous.org/Countdown Countdown | Wiki\n",
    "\n",
    "[6] https://github.com/readme/guides/functional-programming-basics Functional Programming 101 | GitHub \n",
    "\n",
    "[7] https://en.wikipedia.org/wiki/Functional_programming Functional programming | Wikipedia\n",
    "\n",
    "[8] https://www.cambridge.org/core/services/aop-cambridge-core/content/view/FCF81E290B194D1ACBF699842D4D4CA5/S0956796801004300a.pdf/the-countdown-problem.pdf  The countdown problem | Cambridge University Press\n",
    "\n",
    "[9] https://arxiv.org/pdf/1502.05450.pdf (The Final) Countdown\n",
    "Preprint |  arXiv\n",
    "\n",
    "[10] https://en.wikipedia.org/wiki/Reverse_Polish_notation | Wikipedia\n",
    "\n",
    "[11] https://codereview.stackexchange.com/questions/190533/countdown-numbers-game-solution-generator | Code Review\n",
    "\n",
    "[12] https://www.engati.com/glossary/brute-force-search#:~:text=brute%2Dforce%20search%3F-,What%20is%20Brute%2Dforce%20search%3F,search%20or%20generate%20and%20test. | engati\n",
    "\n",
    "[13] https://www.mindtools.com/a01ufjx/heuristic-methods | MindTools"
   ]
  },
  {
   "cell_type": "markdown",
   "metadata": {},
   "source": [
    "## The End\n",
    "***"
   ]
  }
 ],
 "metadata": {
  "kernelspec": {
   "display_name": "Python 3",
   "language": "python",
   "name": "python3"
  },
  "language_info": {
   "codemirror_mode": {
    "name": "ipython",
    "version": 3
   },
   "file_extension": ".py",
   "mimetype": "text/x-python",
   "name": "python",
   "nbconvert_exporter": "python",
   "pygments_lexer": "ipython3",
   "version": "3.11.5"
  }
 },
 "nbformat": 4,
 "nbformat_minor": 2
}
